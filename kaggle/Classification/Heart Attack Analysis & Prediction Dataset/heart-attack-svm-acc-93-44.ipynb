{
 "cells": [
  {
   "cell_type": "code",
   "execution_count": 1,
   "id": "leading-defendant",
   "metadata": {
    "_cell_guid": "b1076dfc-b9ad-4769-8c92-a6c4dae69d19",
    "_uuid": "8f2839f25d086af736a60e9eeb907d3b93b6e0e5",
    "execution": {
     "iopub.execute_input": "2021-05-03T02:11:15.634224Z",
     "iopub.status.busy": "2021-05-03T02:11:15.632384Z",
     "iopub.status.idle": "2021-05-03T02:11:15.651656Z",
     "shell.execute_reply": "2021-05-03T02:11:15.652458Z"
    },
    "papermill": {
     "duration": 0.042728,
     "end_time": "2021-05-03T02:11:15.652823",
     "exception": false,
     "start_time": "2021-05-03T02:11:15.610095",
     "status": "completed"
    },
    "tags": []
   },
   "outputs": [
    {
     "name": "stdout",
     "output_type": "stream",
     "text": [
      "/kaggle/input/heart-attack-analysis-prediction-dataset/o2Saturation.csv\n",
      "/kaggle/input/heart-attack-analysis-prediction-dataset/heart.csv\n"
     ]
    }
   ],
   "source": [
    "# This Python 3 environment comes with many helpful analytics libraries installed\n",
    "# It is defined by the kaggle/python Docker image: https://github.com/kaggle/docker-python\n",
    "# For example, here's several helpful packages to load\n",
    "\n",
    "import numpy as np # linear algebra\n",
    "import pandas as pd # data processing, CSV file I/O (e.g. pd.read_csv)\n",
    "\n",
    "# Input data files are available in the read-only \"../input/\" directory\n",
    "# For example, running this (by clicking run or pressing Shift+Enter) will list all files under the input directory\n",
    "\n",
    "import os\n",
    "for dirname, _, filenames in os.walk('/kaggle/input'):\n",
    "    for filename in filenames:\n",
    "        print(os.path.join(dirname, filename))\n",
    "\n",
    "# You can write up to 20GB to the current directory (/kaggle/working/) that gets preserved as output when you create a version using \"Save & Run All\" \n",
    "# You can also write temporary files to /kaggle/temp/, but they won't be saved outside of the current session"
   ]
  },
  {
   "cell_type": "code",
   "execution_count": 2,
   "id": "baking-webcam",
   "metadata": {
    "execution": {
     "iopub.execute_input": "2021-05-03T02:11:15.693078Z",
     "iopub.status.busy": "2021-05-03T02:11:15.692468Z",
     "iopub.status.idle": "2021-05-03T02:11:15.735329Z",
     "shell.execute_reply": "2021-05-03T02:11:15.735994Z"
    },
    "papermill": {
     "duration": 0.065088,
     "end_time": "2021-05-03T02:11:15.736168",
     "exception": false,
     "start_time": "2021-05-03T02:11:15.671080",
     "status": "completed"
    },
    "tags": []
   },
   "outputs": [
    {
     "data": {
      "text/html": [
       "<div>\n",
       "<style scoped>\n",
       "    .dataframe tbody tr th:only-of-type {\n",
       "        vertical-align: middle;\n",
       "    }\n",
       "\n",
       "    .dataframe tbody tr th {\n",
       "        vertical-align: top;\n",
       "    }\n",
       "\n",
       "    .dataframe thead th {\n",
       "        text-align: right;\n",
       "    }\n",
       "</style>\n",
       "<table border=\"1\" class=\"dataframe\">\n",
       "  <thead>\n",
       "    <tr style=\"text-align: right;\">\n",
       "      <th></th>\n",
       "      <th>age</th>\n",
       "      <th>sex</th>\n",
       "      <th>cp</th>\n",
       "      <th>trtbps</th>\n",
       "      <th>chol</th>\n",
       "      <th>fbs</th>\n",
       "      <th>restecg</th>\n",
       "      <th>thalachh</th>\n",
       "      <th>exng</th>\n",
       "      <th>oldpeak</th>\n",
       "      <th>slp</th>\n",
       "      <th>caa</th>\n",
       "      <th>thall</th>\n",
       "      <th>output</th>\n",
       "    </tr>\n",
       "  </thead>\n",
       "  <tbody>\n",
       "    <tr>\n",
       "      <th>0</th>\n",
       "      <td>63</td>\n",
       "      <td>1</td>\n",
       "      <td>3</td>\n",
       "      <td>145</td>\n",
       "      <td>233</td>\n",
       "      <td>1</td>\n",
       "      <td>0</td>\n",
       "      <td>150</td>\n",
       "      <td>0</td>\n",
       "      <td>2.3</td>\n",
       "      <td>0</td>\n",
       "      <td>0</td>\n",
       "      <td>1</td>\n",
       "      <td>1</td>\n",
       "    </tr>\n",
       "    <tr>\n",
       "      <th>1</th>\n",
       "      <td>37</td>\n",
       "      <td>1</td>\n",
       "      <td>2</td>\n",
       "      <td>130</td>\n",
       "      <td>250</td>\n",
       "      <td>0</td>\n",
       "      <td>1</td>\n",
       "      <td>187</td>\n",
       "      <td>0</td>\n",
       "      <td>3.5</td>\n",
       "      <td>0</td>\n",
       "      <td>0</td>\n",
       "      <td>2</td>\n",
       "      <td>1</td>\n",
       "    </tr>\n",
       "    <tr>\n",
       "      <th>2</th>\n",
       "      <td>41</td>\n",
       "      <td>0</td>\n",
       "      <td>1</td>\n",
       "      <td>130</td>\n",
       "      <td>204</td>\n",
       "      <td>0</td>\n",
       "      <td>0</td>\n",
       "      <td>172</td>\n",
       "      <td>0</td>\n",
       "      <td>1.4</td>\n",
       "      <td>2</td>\n",
       "      <td>0</td>\n",
       "      <td>2</td>\n",
       "      <td>1</td>\n",
       "    </tr>\n",
       "    <tr>\n",
       "      <th>3</th>\n",
       "      <td>56</td>\n",
       "      <td>1</td>\n",
       "      <td>1</td>\n",
       "      <td>120</td>\n",
       "      <td>236</td>\n",
       "      <td>0</td>\n",
       "      <td>1</td>\n",
       "      <td>178</td>\n",
       "      <td>0</td>\n",
       "      <td>0.8</td>\n",
       "      <td>2</td>\n",
       "      <td>0</td>\n",
       "      <td>2</td>\n",
       "      <td>1</td>\n",
       "    </tr>\n",
       "    <tr>\n",
       "      <th>4</th>\n",
       "      <td>57</td>\n",
       "      <td>0</td>\n",
       "      <td>0</td>\n",
       "      <td>120</td>\n",
       "      <td>354</td>\n",
       "      <td>0</td>\n",
       "      <td>1</td>\n",
       "      <td>163</td>\n",
       "      <td>1</td>\n",
       "      <td>0.6</td>\n",
       "      <td>2</td>\n",
       "      <td>0</td>\n",
       "      <td>2</td>\n",
       "      <td>1</td>\n",
       "    </tr>\n",
       "    <tr>\n",
       "      <th>...</th>\n",
       "      <td>...</td>\n",
       "      <td>...</td>\n",
       "      <td>...</td>\n",
       "      <td>...</td>\n",
       "      <td>...</td>\n",
       "      <td>...</td>\n",
       "      <td>...</td>\n",
       "      <td>...</td>\n",
       "      <td>...</td>\n",
       "      <td>...</td>\n",
       "      <td>...</td>\n",
       "      <td>...</td>\n",
       "      <td>...</td>\n",
       "      <td>...</td>\n",
       "    </tr>\n",
       "    <tr>\n",
       "      <th>298</th>\n",
       "      <td>57</td>\n",
       "      <td>0</td>\n",
       "      <td>0</td>\n",
       "      <td>140</td>\n",
       "      <td>241</td>\n",
       "      <td>0</td>\n",
       "      <td>1</td>\n",
       "      <td>123</td>\n",
       "      <td>1</td>\n",
       "      <td>0.2</td>\n",
       "      <td>1</td>\n",
       "      <td>0</td>\n",
       "      <td>3</td>\n",
       "      <td>0</td>\n",
       "    </tr>\n",
       "    <tr>\n",
       "      <th>299</th>\n",
       "      <td>45</td>\n",
       "      <td>1</td>\n",
       "      <td>3</td>\n",
       "      <td>110</td>\n",
       "      <td>264</td>\n",
       "      <td>0</td>\n",
       "      <td>1</td>\n",
       "      <td>132</td>\n",
       "      <td>0</td>\n",
       "      <td>1.2</td>\n",
       "      <td>1</td>\n",
       "      <td>0</td>\n",
       "      <td>3</td>\n",
       "      <td>0</td>\n",
       "    </tr>\n",
       "    <tr>\n",
       "      <th>300</th>\n",
       "      <td>68</td>\n",
       "      <td>1</td>\n",
       "      <td>0</td>\n",
       "      <td>144</td>\n",
       "      <td>193</td>\n",
       "      <td>1</td>\n",
       "      <td>1</td>\n",
       "      <td>141</td>\n",
       "      <td>0</td>\n",
       "      <td>3.4</td>\n",
       "      <td>1</td>\n",
       "      <td>2</td>\n",
       "      <td>3</td>\n",
       "      <td>0</td>\n",
       "    </tr>\n",
       "    <tr>\n",
       "      <th>301</th>\n",
       "      <td>57</td>\n",
       "      <td>1</td>\n",
       "      <td>0</td>\n",
       "      <td>130</td>\n",
       "      <td>131</td>\n",
       "      <td>0</td>\n",
       "      <td>1</td>\n",
       "      <td>115</td>\n",
       "      <td>1</td>\n",
       "      <td>1.2</td>\n",
       "      <td>1</td>\n",
       "      <td>1</td>\n",
       "      <td>3</td>\n",
       "      <td>0</td>\n",
       "    </tr>\n",
       "    <tr>\n",
       "      <th>302</th>\n",
       "      <td>57</td>\n",
       "      <td>0</td>\n",
       "      <td>1</td>\n",
       "      <td>130</td>\n",
       "      <td>236</td>\n",
       "      <td>0</td>\n",
       "      <td>0</td>\n",
       "      <td>174</td>\n",
       "      <td>0</td>\n",
       "      <td>0.0</td>\n",
       "      <td>1</td>\n",
       "      <td>1</td>\n",
       "      <td>2</td>\n",
       "      <td>0</td>\n",
       "    </tr>\n",
       "  </tbody>\n",
       "</table>\n",
       "<p>303 rows × 14 columns</p>\n",
       "</div>"
      ],
      "text/plain": [
       "     age  sex  cp  trtbps  chol  fbs  restecg  thalachh  exng  oldpeak  slp  \\\n",
       "0     63    1   3     145   233    1        0       150     0      2.3    0   \n",
       "1     37    1   2     130   250    0        1       187     0      3.5    0   \n",
       "2     41    0   1     130   204    0        0       172     0      1.4    2   \n",
       "3     56    1   1     120   236    0        1       178     0      0.8    2   \n",
       "4     57    0   0     120   354    0        1       163     1      0.6    2   \n",
       "..   ...  ...  ..     ...   ...  ...      ...       ...   ...      ...  ...   \n",
       "298   57    0   0     140   241    0        1       123     1      0.2    1   \n",
       "299   45    1   3     110   264    0        1       132     0      1.2    1   \n",
       "300   68    1   0     144   193    1        1       141     0      3.4    1   \n",
       "301   57    1   0     130   131    0        1       115     1      1.2    1   \n",
       "302   57    0   1     130   236    0        0       174     0      0.0    1   \n",
       "\n",
       "     caa  thall  output  \n",
       "0      0      1       1  \n",
       "1      0      2       1  \n",
       "2      0      2       1  \n",
       "3      0      2       1  \n",
       "4      0      2       1  \n",
       "..   ...    ...     ...  \n",
       "298    0      3       0  \n",
       "299    0      3       0  \n",
       "300    2      3       0  \n",
       "301    1      3       0  \n",
       "302    1      2       0  \n",
       "\n",
       "[303 rows x 14 columns]"
      ]
     },
     "execution_count": 2,
     "metadata": {},
     "output_type": "execute_result"
    }
   ],
   "source": [
    "import pandas as pd\n",
    "\n",
    "df = pd.read_csv('/kaggle/input/heart-attack-analysis-prediction-dataset/heart.csv')\n",
    "df"
   ]
  },
  {
   "cell_type": "code",
   "execution_count": 3,
   "id": "played-freight",
   "metadata": {
    "execution": {
     "iopub.execute_input": "2021-05-03T02:11:15.774916Z",
     "iopub.status.busy": "2021-05-03T02:11:15.774279Z",
     "iopub.status.idle": "2021-05-03T02:11:15.794682Z",
     "shell.execute_reply": "2021-05-03T02:11:15.795183Z"
    },
    "papermill": {
     "duration": 0.041287,
     "end_time": "2021-05-03T02:11:15.795378",
     "exception": false,
     "start_time": "2021-05-03T02:11:15.754091",
     "status": "completed"
    },
    "tags": []
   },
   "outputs": [
    {
     "name": "stdout",
     "output_type": "stream",
     "text": [
      "<class 'pandas.core.frame.DataFrame'>\n",
      "RangeIndex: 303 entries, 0 to 302\n",
      "Data columns (total 14 columns):\n",
      " #   Column    Non-Null Count  Dtype  \n",
      "---  ------    --------------  -----  \n",
      " 0   age       303 non-null    int64  \n",
      " 1   sex       303 non-null    int64  \n",
      " 2   cp        303 non-null    int64  \n",
      " 3   trtbps    303 non-null    int64  \n",
      " 4   chol      303 non-null    int64  \n",
      " 5   fbs       303 non-null    int64  \n",
      " 6   restecg   303 non-null    int64  \n",
      " 7   thalachh  303 non-null    int64  \n",
      " 8   exng      303 non-null    int64  \n",
      " 9   oldpeak   303 non-null    float64\n",
      " 10  slp       303 non-null    int64  \n",
      " 11  caa       303 non-null    int64  \n",
      " 12  thall     303 non-null    int64  \n",
      " 13  output    303 non-null    int64  \n",
      "dtypes: float64(1), int64(13)\n",
      "memory usage: 33.3 KB\n"
     ]
    }
   ],
   "source": [
    "df.info()"
   ]
  },
  {
   "cell_type": "code",
   "execution_count": 4,
   "id": "naughty-supervisor",
   "metadata": {
    "execution": {
     "iopub.execute_input": "2021-05-03T02:11:15.835660Z",
     "iopub.status.busy": "2021-05-03T02:11:15.835027Z",
     "iopub.status.idle": "2021-05-03T02:11:15.860330Z",
     "shell.execute_reply": "2021-05-03T02:11:15.860864Z"
    },
    "papermill": {
     "duration": 0.047074,
     "end_time": "2021-05-03T02:11:15.861031",
     "exception": false,
     "start_time": "2021-05-03T02:11:15.813957",
     "status": "completed"
    },
    "tags": []
   },
   "outputs": [
    {
     "data": {
      "text/html": [
       "<div>\n",
       "<style scoped>\n",
       "    .dataframe tbody tr th:only-of-type {\n",
       "        vertical-align: middle;\n",
       "    }\n",
       "\n",
       "    .dataframe tbody tr th {\n",
       "        vertical-align: top;\n",
       "    }\n",
       "\n",
       "    .dataframe thead th {\n",
       "        text-align: right;\n",
       "    }\n",
       "</style>\n",
       "<table border=\"1\" class=\"dataframe\">\n",
       "  <thead>\n",
       "    <tr style=\"text-align: right;\">\n",
       "      <th></th>\n",
       "      <th>age</th>\n",
       "      <th>sex</th>\n",
       "      <th>cp</th>\n",
       "      <th>trtbps</th>\n",
       "      <th>chol</th>\n",
       "      <th>fbs</th>\n",
       "      <th>restecg</th>\n",
       "      <th>thalachh</th>\n",
       "      <th>exng</th>\n",
       "      <th>oldpeak</th>\n",
       "      <th>slp</th>\n",
       "      <th>caa</th>\n",
       "      <th>thall</th>\n",
       "      <th>output</th>\n",
       "    </tr>\n",
       "  </thead>\n",
       "  <tbody>\n",
       "    <tr>\n",
       "      <th>0</th>\n",
       "      <td>63</td>\n",
       "      <td>1</td>\n",
       "      <td>3</td>\n",
       "      <td>145</td>\n",
       "      <td>233</td>\n",
       "      <td>1</td>\n",
       "      <td>0</td>\n",
       "      <td>150</td>\n",
       "      <td>0</td>\n",
       "      <td>2.3</td>\n",
       "      <td>0</td>\n",
       "      <td>0</td>\n",
       "      <td>1</td>\n",
       "      <td>1</td>\n",
       "    </tr>\n",
       "    <tr>\n",
       "      <th>1</th>\n",
       "      <td>37</td>\n",
       "      <td>1</td>\n",
       "      <td>2</td>\n",
       "      <td>130</td>\n",
       "      <td>250</td>\n",
       "      <td>0</td>\n",
       "      <td>1</td>\n",
       "      <td>187</td>\n",
       "      <td>0</td>\n",
       "      <td>3.5</td>\n",
       "      <td>0</td>\n",
       "      <td>0</td>\n",
       "      <td>2</td>\n",
       "      <td>1</td>\n",
       "    </tr>\n",
       "    <tr>\n",
       "      <th>2</th>\n",
       "      <td>41</td>\n",
       "      <td>0</td>\n",
       "      <td>1</td>\n",
       "      <td>130</td>\n",
       "      <td>204</td>\n",
       "      <td>0</td>\n",
       "      <td>0</td>\n",
       "      <td>172</td>\n",
       "      <td>0</td>\n",
       "      <td>1.4</td>\n",
       "      <td>2</td>\n",
       "      <td>0</td>\n",
       "      <td>2</td>\n",
       "      <td>1</td>\n",
       "    </tr>\n",
       "    <tr>\n",
       "      <th>3</th>\n",
       "      <td>56</td>\n",
       "      <td>1</td>\n",
       "      <td>1</td>\n",
       "      <td>120</td>\n",
       "      <td>236</td>\n",
       "      <td>0</td>\n",
       "      <td>1</td>\n",
       "      <td>178</td>\n",
       "      <td>0</td>\n",
       "      <td>0.8</td>\n",
       "      <td>2</td>\n",
       "      <td>0</td>\n",
       "      <td>2</td>\n",
       "      <td>1</td>\n",
       "    </tr>\n",
       "    <tr>\n",
       "      <th>4</th>\n",
       "      <td>57</td>\n",
       "      <td>0</td>\n",
       "      <td>0</td>\n",
       "      <td>120</td>\n",
       "      <td>354</td>\n",
       "      <td>0</td>\n",
       "      <td>1</td>\n",
       "      <td>163</td>\n",
       "      <td>1</td>\n",
       "      <td>0.6</td>\n",
       "      <td>2</td>\n",
       "      <td>0</td>\n",
       "      <td>2</td>\n",
       "      <td>1</td>\n",
       "    </tr>\n",
       "    <tr>\n",
       "      <th>...</th>\n",
       "      <td>...</td>\n",
       "      <td>...</td>\n",
       "      <td>...</td>\n",
       "      <td>...</td>\n",
       "      <td>...</td>\n",
       "      <td>...</td>\n",
       "      <td>...</td>\n",
       "      <td>...</td>\n",
       "      <td>...</td>\n",
       "      <td>...</td>\n",
       "      <td>...</td>\n",
       "      <td>...</td>\n",
       "      <td>...</td>\n",
       "      <td>...</td>\n",
       "    </tr>\n",
       "    <tr>\n",
       "      <th>298</th>\n",
       "      <td>57</td>\n",
       "      <td>0</td>\n",
       "      <td>0</td>\n",
       "      <td>140</td>\n",
       "      <td>241</td>\n",
       "      <td>0</td>\n",
       "      <td>1</td>\n",
       "      <td>123</td>\n",
       "      <td>1</td>\n",
       "      <td>0.2</td>\n",
       "      <td>1</td>\n",
       "      <td>0</td>\n",
       "      <td>3</td>\n",
       "      <td>0</td>\n",
       "    </tr>\n",
       "    <tr>\n",
       "      <th>299</th>\n",
       "      <td>45</td>\n",
       "      <td>1</td>\n",
       "      <td>3</td>\n",
       "      <td>110</td>\n",
       "      <td>264</td>\n",
       "      <td>0</td>\n",
       "      <td>1</td>\n",
       "      <td>132</td>\n",
       "      <td>0</td>\n",
       "      <td>1.2</td>\n",
       "      <td>1</td>\n",
       "      <td>0</td>\n",
       "      <td>3</td>\n",
       "      <td>0</td>\n",
       "    </tr>\n",
       "    <tr>\n",
       "      <th>300</th>\n",
       "      <td>68</td>\n",
       "      <td>1</td>\n",
       "      <td>0</td>\n",
       "      <td>144</td>\n",
       "      <td>193</td>\n",
       "      <td>1</td>\n",
       "      <td>1</td>\n",
       "      <td>141</td>\n",
       "      <td>0</td>\n",
       "      <td>3.4</td>\n",
       "      <td>1</td>\n",
       "      <td>2</td>\n",
       "      <td>3</td>\n",
       "      <td>0</td>\n",
       "    </tr>\n",
       "    <tr>\n",
       "      <th>301</th>\n",
       "      <td>57</td>\n",
       "      <td>1</td>\n",
       "      <td>0</td>\n",
       "      <td>130</td>\n",
       "      <td>131</td>\n",
       "      <td>0</td>\n",
       "      <td>1</td>\n",
       "      <td>115</td>\n",
       "      <td>1</td>\n",
       "      <td>1.2</td>\n",
       "      <td>1</td>\n",
       "      <td>1</td>\n",
       "      <td>3</td>\n",
       "      <td>0</td>\n",
       "    </tr>\n",
       "    <tr>\n",
       "      <th>302</th>\n",
       "      <td>57</td>\n",
       "      <td>0</td>\n",
       "      <td>1</td>\n",
       "      <td>130</td>\n",
       "      <td>236</td>\n",
       "      <td>0</td>\n",
       "      <td>0</td>\n",
       "      <td>174</td>\n",
       "      <td>0</td>\n",
       "      <td>0.0</td>\n",
       "      <td>1</td>\n",
       "      <td>1</td>\n",
       "      <td>2</td>\n",
       "      <td>0</td>\n",
       "    </tr>\n",
       "  </tbody>\n",
       "</table>\n",
       "<p>302 rows × 14 columns</p>\n",
       "</div>"
      ],
      "text/plain": [
       "     age  sex  cp  trtbps  chol  fbs  restecg  thalachh  exng  oldpeak  slp  \\\n",
       "0     63    1   3     145   233    1        0       150     0      2.3    0   \n",
       "1     37    1   2     130   250    0        1       187     0      3.5    0   \n",
       "2     41    0   1     130   204    0        0       172     0      1.4    2   \n",
       "3     56    1   1     120   236    0        1       178     0      0.8    2   \n",
       "4     57    0   0     120   354    0        1       163     1      0.6    2   \n",
       "..   ...  ...  ..     ...   ...  ...      ...       ...   ...      ...  ...   \n",
       "298   57    0   0     140   241    0        1       123     1      0.2    1   \n",
       "299   45    1   3     110   264    0        1       132     0      1.2    1   \n",
       "300   68    1   0     144   193    1        1       141     0      3.4    1   \n",
       "301   57    1   0     130   131    0        1       115     1      1.2    1   \n",
       "302   57    0   1     130   236    0        0       174     0      0.0    1   \n",
       "\n",
       "     caa  thall  output  \n",
       "0      0      1       1  \n",
       "1      0      2       1  \n",
       "2      0      2       1  \n",
       "3      0      2       1  \n",
       "4      0      2       1  \n",
       "..   ...    ...     ...  \n",
       "298    0      3       0  \n",
       "299    0      3       0  \n",
       "300    2      3       0  \n",
       "301    1      3       0  \n",
       "302    1      2       0  \n",
       "\n",
       "[302 rows x 14 columns]"
      ]
     },
     "execution_count": 4,
     "metadata": {},
     "output_type": "execute_result"
    }
   ],
   "source": [
    "df.drop_duplicates(inplace=True)\n",
    "df"
   ]
  },
  {
   "cell_type": "code",
   "execution_count": 5,
   "id": "qualified-maker",
   "metadata": {
    "execution": {
     "iopub.execute_input": "2021-05-03T02:11:15.902831Z",
     "iopub.status.busy": "2021-05-03T02:11:15.902024Z",
     "iopub.status.idle": "2021-05-03T02:11:16.117032Z",
     "shell.execute_reply": "2021-05-03T02:11:16.117691Z"
    },
    "papermill": {
     "duration": 0.237744,
     "end_time": "2021-05-03T02:11:16.117912",
     "exception": false,
     "start_time": "2021-05-03T02:11:15.880168",
     "status": "completed"
    },
    "tags": []
   },
   "outputs": [
    {
     "name": "stderr",
     "output_type": "stream",
     "text": [
      "/opt/conda/lib/python3.7/site-packages/pandas/core/indexing.py:1637: SettingWithCopyWarning: \n",
      "A value is trying to be set on a copy of a slice from a DataFrame\n",
      "\n",
      "See the caveats in the documentation: https://pandas.pydata.org/pandas-docs/stable/user_guide/indexing.html#returning-a-view-versus-a-copy\n",
      "  self._setitem_single_block(indexer, value, name)\n"
     ]
    },
    {
     "data": {
      "text/html": [
       "<div>\n",
       "<style scoped>\n",
       "    .dataframe tbody tr th:only-of-type {\n",
       "        vertical-align: middle;\n",
       "    }\n",
       "\n",
       "    .dataframe tbody tr th {\n",
       "        vertical-align: top;\n",
       "    }\n",
       "\n",
       "    .dataframe thead th {\n",
       "        text-align: right;\n",
       "    }\n",
       "</style>\n",
       "<table border=\"1\" class=\"dataframe\">\n",
       "  <thead>\n",
       "    <tr style=\"text-align: right;\">\n",
       "      <th></th>\n",
       "      <th>age</th>\n",
       "      <th>sex</th>\n",
       "      <th>cp</th>\n",
       "      <th>trtbps</th>\n",
       "      <th>chol</th>\n",
       "      <th>fbs</th>\n",
       "      <th>restecg</th>\n",
       "      <th>thalachh</th>\n",
       "      <th>exng</th>\n",
       "      <th>oldpeak</th>\n",
       "      <th>slp</th>\n",
       "      <th>caa</th>\n",
       "      <th>thall</th>\n",
       "      <th>output</th>\n",
       "    </tr>\n",
       "  </thead>\n",
       "  <tbody>\n",
       "    <tr>\n",
       "      <th>0</th>\n",
       "      <td>60</td>\n",
       "      <td>1</td>\n",
       "      <td>3</td>\n",
       "      <td>145</td>\n",
       "      <td>233</td>\n",
       "      <td>1</td>\n",
       "      <td>0</td>\n",
       "      <td>150</td>\n",
       "      <td>0</td>\n",
       "      <td>2.3</td>\n",
       "      <td>0</td>\n",
       "      <td>0</td>\n",
       "      <td>1</td>\n",
       "      <td>1</td>\n",
       "    </tr>\n",
       "    <tr>\n",
       "      <th>1</th>\n",
       "      <td>40</td>\n",
       "      <td>1</td>\n",
       "      <td>2</td>\n",
       "      <td>130</td>\n",
       "      <td>250</td>\n",
       "      <td>0</td>\n",
       "      <td>1</td>\n",
       "      <td>187</td>\n",
       "      <td>0</td>\n",
       "      <td>3.5</td>\n",
       "      <td>0</td>\n",
       "      <td>0</td>\n",
       "      <td>2</td>\n",
       "      <td>1</td>\n",
       "    </tr>\n",
       "    <tr>\n",
       "      <th>2</th>\n",
       "      <td>40</td>\n",
       "      <td>0</td>\n",
       "      <td>1</td>\n",
       "      <td>130</td>\n",
       "      <td>204</td>\n",
       "      <td>0</td>\n",
       "      <td>0</td>\n",
       "      <td>172</td>\n",
       "      <td>0</td>\n",
       "      <td>1.4</td>\n",
       "      <td>2</td>\n",
       "      <td>0</td>\n",
       "      <td>2</td>\n",
       "      <td>1</td>\n",
       "    </tr>\n",
       "    <tr>\n",
       "      <th>3</th>\n",
       "      <td>60</td>\n",
       "      <td>1</td>\n",
       "      <td>1</td>\n",
       "      <td>120</td>\n",
       "      <td>236</td>\n",
       "      <td>0</td>\n",
       "      <td>1</td>\n",
       "      <td>178</td>\n",
       "      <td>0</td>\n",
       "      <td>0.8</td>\n",
       "      <td>2</td>\n",
       "      <td>0</td>\n",
       "      <td>2</td>\n",
       "      <td>1</td>\n",
       "    </tr>\n",
       "    <tr>\n",
       "      <th>4</th>\n",
       "      <td>60</td>\n",
       "      <td>0</td>\n",
       "      <td>0</td>\n",
       "      <td>120</td>\n",
       "      <td>354</td>\n",
       "      <td>0</td>\n",
       "      <td>1</td>\n",
       "      <td>163</td>\n",
       "      <td>1</td>\n",
       "      <td>0.6</td>\n",
       "      <td>2</td>\n",
       "      <td>0</td>\n",
       "      <td>2</td>\n",
       "      <td>1</td>\n",
       "    </tr>\n",
       "    <tr>\n",
       "      <th>...</th>\n",
       "      <td>...</td>\n",
       "      <td>...</td>\n",
       "      <td>...</td>\n",
       "      <td>...</td>\n",
       "      <td>...</td>\n",
       "      <td>...</td>\n",
       "      <td>...</td>\n",
       "      <td>...</td>\n",
       "      <td>...</td>\n",
       "      <td>...</td>\n",
       "      <td>...</td>\n",
       "      <td>...</td>\n",
       "      <td>...</td>\n",
       "      <td>...</td>\n",
       "    </tr>\n",
       "    <tr>\n",
       "      <th>298</th>\n",
       "      <td>60</td>\n",
       "      <td>0</td>\n",
       "      <td>0</td>\n",
       "      <td>140</td>\n",
       "      <td>241</td>\n",
       "      <td>0</td>\n",
       "      <td>1</td>\n",
       "      <td>123</td>\n",
       "      <td>1</td>\n",
       "      <td>0.2</td>\n",
       "      <td>1</td>\n",
       "      <td>0</td>\n",
       "      <td>3</td>\n",
       "      <td>0</td>\n",
       "    </tr>\n",
       "    <tr>\n",
       "      <th>299</th>\n",
       "      <td>50</td>\n",
       "      <td>1</td>\n",
       "      <td>3</td>\n",
       "      <td>110</td>\n",
       "      <td>264</td>\n",
       "      <td>0</td>\n",
       "      <td>1</td>\n",
       "      <td>132</td>\n",
       "      <td>0</td>\n",
       "      <td>1.2</td>\n",
       "      <td>1</td>\n",
       "      <td>0</td>\n",
       "      <td>3</td>\n",
       "      <td>0</td>\n",
       "    </tr>\n",
       "    <tr>\n",
       "      <th>300</th>\n",
       "      <td>70</td>\n",
       "      <td>1</td>\n",
       "      <td>0</td>\n",
       "      <td>144</td>\n",
       "      <td>193</td>\n",
       "      <td>1</td>\n",
       "      <td>1</td>\n",
       "      <td>141</td>\n",
       "      <td>0</td>\n",
       "      <td>3.4</td>\n",
       "      <td>1</td>\n",
       "      <td>2</td>\n",
       "      <td>3</td>\n",
       "      <td>0</td>\n",
       "    </tr>\n",
       "    <tr>\n",
       "      <th>301</th>\n",
       "      <td>60</td>\n",
       "      <td>1</td>\n",
       "      <td>0</td>\n",
       "      <td>130</td>\n",
       "      <td>131</td>\n",
       "      <td>0</td>\n",
       "      <td>1</td>\n",
       "      <td>115</td>\n",
       "      <td>1</td>\n",
       "      <td>1.2</td>\n",
       "      <td>1</td>\n",
       "      <td>1</td>\n",
       "      <td>3</td>\n",
       "      <td>0</td>\n",
       "    </tr>\n",
       "    <tr>\n",
       "      <th>302</th>\n",
       "      <td>60</td>\n",
       "      <td>0</td>\n",
       "      <td>1</td>\n",
       "      <td>130</td>\n",
       "      <td>236</td>\n",
       "      <td>0</td>\n",
       "      <td>0</td>\n",
       "      <td>174</td>\n",
       "      <td>0</td>\n",
       "      <td>0.0</td>\n",
       "      <td>1</td>\n",
       "      <td>1</td>\n",
       "      <td>2</td>\n",
       "      <td>0</td>\n",
       "    </tr>\n",
       "  </tbody>\n",
       "</table>\n",
       "<p>302 rows × 14 columns</p>\n",
       "</div>"
      ],
      "text/plain": [
       "     age  sex  cp  trtbps  chol  fbs  restecg  thalachh  exng  oldpeak  slp  \\\n",
       "0     60    1   3     145   233    1        0       150     0      2.3    0   \n",
       "1     40    1   2     130   250    0        1       187     0      3.5    0   \n",
       "2     40    0   1     130   204    0        0       172     0      1.4    2   \n",
       "3     60    1   1     120   236    0        1       178     0      0.8    2   \n",
       "4     60    0   0     120   354    0        1       163     1      0.6    2   \n",
       "..   ...  ...  ..     ...   ...  ...      ...       ...   ...      ...  ...   \n",
       "298   60    0   0     140   241    0        1       123     1      0.2    1   \n",
       "299   50    1   3     110   264    0        1       132     0      1.2    1   \n",
       "300   70    1   0     144   193    1        1       141     0      3.4    1   \n",
       "301   60    1   0     130   131    0        1       115     1      1.2    1   \n",
       "302   60    0   1     130   236    0        0       174     0      0.0    1   \n",
       "\n",
       "     caa  thall  output  \n",
       "0      0      1       1  \n",
       "1      0      2       1  \n",
       "2      0      2       1  \n",
       "3      0      2       1  \n",
       "4      0      2       1  \n",
       "..   ...    ...     ...  \n",
       "298    0      3       0  \n",
       "299    0      3       0  \n",
       "300    2      3       0  \n",
       "301    1      3       0  \n",
       "302    1      2       0  \n",
       "\n",
       "[302 rows x 14 columns]"
      ]
     },
     "execution_count": 5,
     "metadata": {},
     "output_type": "execute_result"
    }
   ],
   "source": [
    "import copy\n",
    "\n",
    "temp = copy.deepcopy(df)\n",
    "for i in range(len(df)):\n",
    "    if df.age.iloc[i] < 30:\n",
    "        temp.age.iloc[i] = 30\n",
    "    elif df.age.iloc[i] >= 65:\n",
    "        temp.age.iloc[i] = 70    \n",
    "    elif df.age.iloc[i] >= 60:\n",
    "        temp.age.iloc[i] = 60    \n",
    "    elif df.age.iloc[i] >= 55:\n",
    "        temp.age.iloc[i] = 60    \n",
    "    elif df.age.iloc[i] >= 50:\n",
    "        temp.age.iloc[i] = 50 \n",
    "    elif df.age.iloc[i] >= 45:\n",
    "        temp.age.iloc[i] = 50    \n",
    "    elif df.age.iloc[i] >= 40:\n",
    "        temp.age.iloc[i] = 40\n",
    "    elif df.age.iloc[i] >= 35:\n",
    "        temp.age.iloc[i] = 40\n",
    "    elif df.age.iloc[i] >= 30:\n",
    "        temp.age.iloc[i] = 30\n",
    "temp"
   ]
  },
  {
   "cell_type": "code",
   "execution_count": 6,
   "id": "emerging-necklace",
   "metadata": {
    "execution": {
     "iopub.execute_input": "2021-05-03T02:11:16.180259Z",
     "iopub.status.busy": "2021-05-03T02:11:16.179576Z",
     "iopub.status.idle": "2021-05-03T02:11:16.395086Z",
     "shell.execute_reply": "2021-05-03T02:11:16.394451Z"
    },
    "papermill": {
     "duration": 0.256715,
     "end_time": "2021-05-03T02:11:16.395239",
     "exception": false,
     "start_time": "2021-05-03T02:11:16.138524",
     "status": "completed"
    },
    "tags": []
   },
   "outputs": [
    {
     "data": {
      "image/png": "[encoded data removed]",
      "text/plain": [
       "<Figure size 432x288 with 2 Axes>"
      ]
     },
     "metadata": {
      "needs_background": "light"
     },
     "output_type": "display_data"
    }
   ],
   "source": [
    "import matplotlib.pyplot as plt\n",
    "\n",
    "plt.subplot(2, 2, 1)\n",
    "plt.violinplot([df.age])\n",
    "plt.title('age')\n",
    "plt.subplot(2, 2, 2)\n",
    "plt.violinplot([df.sex])\n",
    "plt.title('sex')\n",
    "plt.show()"
   ]
  },
  {
   "cell_type": "code",
   "execution_count": 7,
   "id": "similar-oakland",
   "metadata": {
    "execution": {
     "iopub.execute_input": "2021-05-03T02:11:16.469810Z",
     "iopub.status.busy": "2021-05-03T02:11:16.468060Z",
     "iopub.status.idle": "2021-05-03T02:11:16.557952Z",
     "shell.execute_reply": "2021-05-03T02:11:16.557326Z"
    },
    "papermill": {
     "duration": 0.142028,
     "end_time": "2021-05-03T02:11:16.558101",
     "exception": false,
     "start_time": "2021-05-03T02:11:16.416073",
     "status": "completed"
    },
    "tags": []
   },
   "outputs": [
    {
     "data": {
      "text/plain": [
       "([<matplotlib.axis.XTick at 0x7f8622f28d50>,\n",
       "  <matplotlib.axis.XTick at 0x7f8622f28fd0>],\n",
       " [Text(0, 0, ''), Text(0, 0, '')])"
      ]
     },
     "execution_count": 7,
     "metadata": {},
     "output_type": "execute_result"
    },
    {
     "data": {
      "image/png": "[encoded data removed]",
      "text/plain": [
       "<Figure size 432x288 with 1 Axes>"
      ]
     },
     "metadata": {
      "needs_background": "light"
     },
     "output_type": "display_data"
    }
   ],
   "source": [
    "tmp = df.output.value_counts()\n",
    "\n",
    "plt.bar(tmp.index, tmp.values)\n",
    "plt.xticks([0, 1])"
   ]
  },
  {
   "cell_type": "code",
   "execution_count": 8,
   "id": "incorporate-stack",
   "metadata": {
    "execution": {
     "iopub.execute_input": "2021-05-03T02:11:16.633189Z",
     "iopub.status.busy": "2021-05-03T02:11:16.631812Z",
     "iopub.status.idle": "2021-05-03T02:11:16.749135Z",
     "shell.execute_reply": "2021-05-03T02:11:16.748615Z"
    },
    "papermill": {
     "duration": 0.169283,
     "end_time": "2021-05-03T02:11:16.749286",
     "exception": false,
     "start_time": "2021-05-03T02:11:16.580003",
     "status": "completed"
    },
    "tags": []
   },
   "outputs": [
    {
     "data": {
      "text/plain": [
       "(array([ 1., 10., 33., 38., 37., 60., 63., 43., 14.,  3.]),\n",
       " array([29. , 33.8, 38.6, 43.4, 48.2, 53. , 57.8, 62.6, 67.4, 72.2, 77. ]),\n",
       " <BarContainer object of 10 artists>)"
      ]
     },
     "execution_count": 8,
     "metadata": {},
     "output_type": "execute_result"
    },
    {
     "data": {
      "image/png": "[encoded data removed]",
      "text/plain": [
       "<Figure size 432x288 with 1 Axes>"
      ]
     },
     "metadata": {
      "needs_background": "light"
     },
     "output_type": "display_data"
    }
   ],
   "source": [
    "plt.hist(df.age)"
   ]
  },
  {
   "cell_type": "code",
   "execution_count": 9,
   "id": "beginning-feeling",
   "metadata": {
    "execution": {
     "iopub.execute_input": "2021-05-03T02:11:16.801939Z",
     "iopub.status.busy": "2021-05-03T02:11:16.801120Z",
     "iopub.status.idle": "2021-05-03T02:11:16.805436Z",
     "shell.execute_reply": "2021-05-03T02:11:16.804792Z"
    },
    "papermill": {
     "duration": 0.03274,
     "end_time": "2021-05-03T02:11:16.805570",
     "exception": false,
     "start_time": "2021-05-03T02:11:16.772830",
     "status": "completed"
    },
    "tags": []
   },
   "outputs": [
    {
     "data": {
      "text/plain": [
       "Index(['age', 'sex', 'cp', 'trtbps', 'chol', 'fbs', 'restecg', 'thalachh',\n",
       "       'exng', 'oldpeak', 'slp', 'caa', 'thall', 'output'],\n",
       "      dtype='object')"
      ]
     },
     "execution_count": 9,
     "metadata": {},
     "output_type": "execute_result"
    }
   ],
   "source": [
    "df.columns"
   ]
  },
  {
   "cell_type": "code",
   "execution_count": 10,
   "id": "tamil-underground",
   "metadata": {
    "execution": {
     "iopub.execute_input": "2021-05-03T02:11:16.878467Z",
     "iopub.status.busy": "2021-05-03T02:11:16.877700Z",
     "iopub.status.idle": "2021-05-03T02:11:17.011598Z",
     "shell.execute_reply": "2021-05-03T02:11:17.011090Z"
    },
    "papermill": {
     "duration": 0.18293,
     "end_time": "2021-05-03T02:11:17.011748",
     "exception": false,
     "start_time": "2021-05-03T02:11:16.828818",
     "status": "completed"
    },
    "tags": []
   },
   "outputs": [
    {
     "data": {
      "text/plain": [
       "(array([10., 42., 67., 74., 56., 27., 13.,  8.,  3.,  2.]),\n",
       " array([ 94. , 104.6, 115.2, 125.8, 136.4, 147. , 157.6, 168.2, 178.8,\n",
       "        189.4, 200. ]),\n",
       " <BarContainer object of 10 artists>)"
      ]
     },
     "execution_count": 10,
     "metadata": {},
     "output_type": "execute_result"
    },
    {
     "data": {
      "image/png": "[encoded data removed]",
      "text/plain": [
       "<Figure size 432x288 with 1 Axes>"
      ]
     },
     "metadata": {
      "needs_background": "light"
     },
     "output_type": "display_data"
    }
   ],
   "source": [
    "plt.hist(df.trtbps)"
   ]
  },
  {
   "cell_type": "code",
   "execution_count": 11,
   "id": "inclusive-franchise",
   "metadata": {
    "execution": {
     "iopub.execute_input": "2021-05-03T02:11:17.064732Z",
     "iopub.status.busy": "2021-05-03T02:11:17.064115Z",
     "iopub.status.idle": "2021-05-03T02:11:17.237968Z",
     "shell.execute_reply": "2021-05-03T02:11:17.238427Z"
    },
    "papermill": {
     "duration": 0.202026,
     "end_time": "2021-05-03T02:11:17.238594",
     "exception": false,
     "start_time": "2021-05-03T02:11:17.036568",
     "status": "completed"
    },
    "tags": []
   },
   "outputs": [
    {
     "data": {
      "text/plain": [
       "(array([143.,   0.,   0.,  50.,   0.,   0.,  86.,   0.,   0.,  23.]),\n",
       " array([0. , 0.3, 0.6, 0.9, 1.2, 1.5, 1.8, 2.1, 2.4, 2.7, 3. ]),\n",
       " <BarContainer object of 10 artists>)"
      ]
     },
     "execution_count": 11,
     "metadata": {},
     "output_type": "execute_result"
    },
    {
     "data": {
      "image/png": "[encoded data removed]",
      "text/plain": [
       "<Figure size 432x288 with 1 Axes>"
      ]
     },
     "metadata": {
      "needs_background": "light"
     },
     "output_type": "display_data"
    }
   ],
   "source": [
    "plt.hist(df.cp)"
   ]
  },
  {
   "cell_type": "code",
   "execution_count": 12,
   "id": "dated-gibson",
   "metadata": {
    "execution": {
     "iopub.execute_input": "2021-05-03T02:11:17.293423Z",
     "iopub.status.busy": "2021-05-03T02:11:17.292504Z",
     "iopub.status.idle": "2021-05-03T02:11:18.535108Z",
     "shell.execute_reply": "2021-05-03T02:11:18.534574Z"
    },
    "papermill": {
     "duration": 1.271371,
     "end_time": "2021-05-03T02:11:18.535268",
     "exception": false,
     "start_time": "2021-05-03T02:11:17.263897",
     "status": "completed"
    },
    "tags": []
   },
   "outputs": [
    {
     "data": {
      "text/plain": [
       "<AxesSubplot:>"
      ]
     },
     "execution_count": 12,
     "metadata": {},
     "output_type": "execute_result"
    },
    {
     "data": {
      "image/png": "[encoded data removed]",
      "text/plain": [
       "<Figure size 432x288 with 2 Axes>"
      ]
     },
     "metadata": {
      "needs_background": "light"
     },
     "output_type": "display_data"
    }
   ],
   "source": [
    "import seaborn as sns\n",
    "\n",
    "sns.heatmap(df.corr(method='pearson'), cmap = 'Blues')"
   ]
  },
  {
   "cell_type": "code",
   "execution_count": 13,
   "id": "loaded-jurisdiction",
   "metadata": {
    "execution": {
     "iopub.execute_input": "2021-05-03T02:11:18.598047Z",
     "iopub.status.busy": "2021-05-03T02:11:18.597396Z",
     "iopub.status.idle": "2021-05-03T02:11:18.601470Z",
     "shell.execute_reply": "2021-05-03T02:11:18.600936Z"
    },
    "papermill": {
     "duration": 0.038901,
     "end_time": "2021-05-03T02:11:18.601621",
     "exception": false,
     "start_time": "2021-05-03T02:11:18.562720",
     "status": "completed"
    },
    "tags": []
   },
   "outputs": [
    {
     "data": {
      "text/plain": [
       "(array([[63.,  1.,  3., ...,  0.,  0.,  1.],\n",
       "        [37.,  1.,  2., ...,  0.,  0.,  2.],\n",
       "        [41.,  0.,  1., ...,  2.,  0.,  2.],\n",
       "        ...,\n",
       "        [68.,  1.,  0., ...,  1.,  2.,  3.],\n",
       "        [57.,  1.,  0., ...,  1.,  1.,  3.],\n",
       "        [57.,  0.,  1., ...,  1.,  1.,  2.]]),\n",
       " array([1, 1, 1, 1, 1, 1, 1, 1, 1, 1, 1, 1, 1, 1, 1, 1, 1, 1, 1, 1, 1, 1,\n",
       "        1, 1, 1, 1, 1, 1, 1, 1, 1, 1, 1, 1, 1, 1, 1, 1, 1, 1, 1, 1, 1, 1,\n",
       "        1, 1, 1, 1, 1, 1, 1, 1, 1, 1, 1, 1, 1, 1, 1, 1, 1, 1, 1, 1, 1, 1,\n",
       "        1, 1, 1, 1, 1, 1, 1, 1, 1, 1, 1, 1, 1, 1, 1, 1, 1, 1, 1, 1, 1, 1,\n",
       "        1, 1, 1, 1, 1, 1, 1, 1, 1, 1, 1, 1, 1, 1, 1, 1, 1, 1, 1, 1, 1, 1,\n",
       "        1, 1, 1, 1, 1, 1, 1, 1, 1, 1, 1, 1, 1, 1, 1, 1, 1, 1, 1, 1, 1, 1,\n",
       "        1, 1, 1, 1, 1, 1, 1, 1, 1, 1, 1, 1, 1, 1, 1, 1, 1, 1, 1, 1, 1, 1,\n",
       "        1, 1, 1, 1, 1, 1, 1, 1, 1, 1, 0, 0, 0, 0, 0, 0, 0, 0, 0, 0, 0, 0,\n",
       "        0, 0, 0, 0, 0, 0, 0, 0, 0, 0, 0, 0, 0, 0, 0, 0, 0, 0, 0, 0, 0, 0,\n",
       "        0, 0, 0, 0, 0, 0, 0, 0, 0, 0, 0, 0, 0, 0, 0, 0, 0, 0, 0, 0, 0, 0,\n",
       "        0, 0, 0, 0, 0, 0, 0, 0, 0, 0, 0, 0, 0, 0, 0, 0, 0, 0, 0, 0, 0, 0,\n",
       "        0, 0, 0, 0, 0, 0, 0, 0, 0, 0, 0, 0, 0, 0, 0, 0, 0, 0, 0, 0, 0, 0,\n",
       "        0, 0, 0, 0, 0, 0, 0, 0, 0, 0, 0, 0, 0, 0, 0, 0, 0, 0, 0, 0, 0, 0,\n",
       "        0, 0, 0, 0, 0, 0, 0, 0, 0, 0, 0, 0, 0, 0, 0, 0]))"
      ]
     },
     "execution_count": 13,
     "metadata": {},
     "output_type": "execute_result"
    }
   ],
   "source": [
    "x = df.iloc[:, 0:-1].values\n",
    "y = df.iloc[:, -1].values\n",
    "x,y"
   ]
  },
  {
   "cell_type": "code",
   "execution_count": 14,
   "id": "instant-clock",
   "metadata": {
    "execution": {
     "iopub.execute_input": "2021-05-03T02:11:18.663583Z",
     "iopub.status.busy": "2021-05-03T02:11:18.662957Z",
     "iopub.status.idle": "2021-05-03T02:11:18.846355Z",
     "shell.execute_reply": "2021-05-03T02:11:18.845266Z"
    },
    "papermill": {
     "duration": 0.217471,
     "end_time": "2021-05-03T02:11:18.846543",
     "exception": false,
     "start_time": "2021-05-03T02:11:18.629072",
     "status": "completed"
    },
    "tags": []
   },
   "outputs": [
    {
     "name": "stdout",
     "output_type": "stream",
     "text": [
      "Shape for training data (241, 13) (241,)\n",
      "Shape for testing data (61, 13) (61,)\n"
     ]
    }
   ],
   "source": [
    "from sklearn.model_selection import train_test_split\n",
    "from sklearn.preprocessing import StandardScaler\n",
    "from sklearn.preprocessing import RobustScaler\n",
    "from sklearn.preprocessing import MaxAbsScaler\n",
    "from sklearn.preprocessing import MinMaxScaler\n",
    "\n",
    "X_train, X_test, y_train, y_test = train_test_split(x, y, test_size= 0.2, random_state= 0)\n",
    "\n",
    "standardScaler = StandardScaler()\n",
    "X_train =standardScaler.fit_transform(X_train)\n",
    "X_test = standardScaler.transform(X_test)\n",
    "\n",
    "# robustScaler = RobustScaler()\n",
    "# X_train =robustScaler.fit_transform(X_train)\n",
    "# X_test = robustScaler.transform(X_test)\n",
    "\n",
    "# maxAbsScaler = MaxAbsScaler()\n",
    "# X_train = maxAbsScaler.fit_transform(X_train)\n",
    "# X_test = maxAbsScaler.transform(X_test)\n",
    "\n",
    "# minMaxScaler = MinMaxScaler()\n",
    "# X_train = minMaxScaler.fit_transform(X_train)\n",
    "# X_test = minMaxScaler.transform(X_test)\n",
    "\n",
    "print('Shape for training data', X_train.shape, y_train.shape)\n",
    "print('Shape for testing data', X_test.shape, y_test.shape)"
   ]
  },
  {
   "cell_type": "code",
   "execution_count": 15,
   "id": "manual-amsterdam",
   "metadata": {
    "execution": {
     "iopub.execute_input": "2021-05-03T02:11:18.920849Z",
     "iopub.status.busy": "2021-05-03T02:11:18.919885Z",
     "iopub.status.idle": "2021-05-03T02:11:18.924186Z",
     "shell.execute_reply": "2021-05-03T02:11:18.924802Z"
    },
    "papermill": {
     "duration": 0.049242,
     "end_time": "2021-05-03T02:11:18.924966",
     "exception": false,
     "start_time": "2021-05-03T02:11:18.875724",
     "status": "completed"
    },
    "tags": []
   },
   "outputs": [
    {
     "data": {
      "text/plain": [
       "(array([[-1.30504994, -1.4186261 ,  0.98544689, ..., -0.61492051,\n",
       "         -0.70674006, -0.49876142],\n",
       "        [ 1.25925059, -1.4186261 ,  0.98544689, ..., -0.61492051,\n",
       "          0.29516791, -0.49876142],\n",
       "        [ 0.36731998,  0.70490738,  0.98544689, ...,  0.99590387,\n",
       "         -0.70674006, -0.49876142],\n",
       "        ...,\n",
       "        [ 0.14433732,  0.70490738,  1.94307874, ..., -0.61492051,\n",
       "         -0.70674006,  1.1478345 ],\n",
       "        [-0.85908463,  0.70490738,  0.98544689, ...,  0.99590387,\n",
       "         -0.70674006, -0.49876142],\n",
       "        [ 0.36731998,  0.70490738,  0.98544689, ...,  0.99590387,\n",
       "          1.29707587,  1.1478345 ]]),\n",
       " array([[ 0.81328528,  0.70490738,  0.02781503, -0.67462818,  0.65089023,\n",
       "         -0.40527917, -0.97525383, -1.96657306, -0.6983225 ,  0.27236593,\n",
       "         -0.61492051,  0.29516791,  1.1478345 ],\n",
       "        [ 1.03626794,  0.70490738,  1.94307874,  2.19385084, -0.36856884,\n",
       "         -0.40527917, -0.97525383,  0.23525787, -0.6983225 , -0.39657867,\n",
       "         -0.61492051, -0.70674006,  1.1478345 ],\n",
       "        [ 1.03626794,  0.70490738,  0.98544689, -0.38778028,  1.17949864,\n",
       "         -0.40527917,  0.90503556, -0.78097179,  1.43200311,  0.60683823,\n",
       "         -0.61492051, -0.70674006,  1.1478345 ],\n",
       "        [ 0.36731998,  0.70490738, -0.92981682,  1.04645923,  0.44322264,\n",
       "         -0.40527917, -0.97525383, -1.62782984,  1.43200311, -0.22934252,\n",
       "          0.99590387, -0.70674006,  1.1478345 ],\n",
       "        [ 0.81328528,  0.70490738,  0.98544689, -0.10093237, -0.29305336,\n",
       "         -0.40527917,  0.90503556, -0.14582825, -0.6983225 ,  0.60683823,\n",
       "         -0.61492051,  2.29898383,  1.1478345 ],\n",
       "        [ 0.14433732, -1.4186261 , -0.92981682,  0.12854595,  3.06738581,\n",
       "         -0.40527917, -0.97525383,  0.02354336,  1.43200311,  0.6904563 ,\n",
       "         -0.61492051,  1.29707587,  1.1478345 ],\n",
       "        [ 0.59030263,  0.70490738, -0.92981682, -0.84673692, -0.31193223,\n",
       "          2.46743496,  0.90503556,  0.44697238,  1.43200311,  0.27236593,\n",
       "          0.99590387,  1.29707587,  1.1478345 ],\n",
       "        [-0.19013666,  0.70490738, -0.92981682,  0.47276343, -0.82166177,\n",
       "          2.46743496, -0.97525383,  0.23525787,  1.43200311,  1.6938732 ,\n",
       "         -2.22574489, -0.70674006,  1.1478345 ],\n",
       "        [-0.07864533,  0.70490738, -0.92981682, -1.24832398, -0.14202238,\n",
       "         -0.40527917,  0.90503556, -0.9926863 ,  1.43200311,  1.44301898,\n",
       "         -0.61492051,  0.29516791,  1.1478345 ],\n",
       "        [ 1.14775927,  0.70490738, -0.92981682,  0.18591553,  0.14116069,\n",
       "         -0.40527917, -0.97525383, -0.9503434 , -0.6983225 ,  1.44301898,\n",
       "         -0.61492051,  0.29516791,  1.1478345 ],\n",
       "        [ 0.25582865,  0.70490738,  0.98544689,  1.04645923, -2.27533489,\n",
       "          2.46743496,  0.90503556,  0.99743011, -0.6983225 , -0.73105097,\n",
       "          0.99590387,  0.29516791,  1.1478345 ],\n",
       "        [-0.63610197, -1.4186261 , -0.92981682, -0.10093237,  0.42434377,\n",
       "         -0.40527917,  0.90503556,  0.57400109, -0.6983225 , -0.89828712,\n",
       "          0.99590387, -0.70674006, -0.49876142],\n",
       "        [-0.7475933 ,  0.70490738, -0.92981682, -0.10093237,  0.17891844,\n",
       "          2.46743496, -0.97525383,  0.02354336,  1.43200311, -0.89828712,\n",
       "          0.99590387,  1.29707587,  1.1478345 ],\n",
       "        [-0.63610197,  0.70490738,  0.02781503, -0.10093237,  0.36770715,\n",
       "         -0.40527917,  0.90503556,  0.91274431, -0.6983225 , -0.39657867,\n",
       "          0.99590387, -0.70674006, -0.49876142],\n",
       "        [-0.52461064, -1.4186261 ,  0.98544689, -0.67462818, -0.51959982,\n",
       "         -0.40527917,  0.90503556,  0.36228658, -0.6983225 ,  0.43960208,\n",
       "         -0.61492051, -0.70674006, -0.49876142],\n",
       "        [-0.41311932,  0.70490738,  0.98544689, -1.82201979, -0.4629632 ,\n",
       "         -0.40527917,  0.90503556, -0.27285696,  1.43200311,  0.10512978,\n",
       "         -0.61492051, -0.70674006, -0.49876142],\n",
       "        [-0.30162799,  0.70490738, -0.92981682, -1.36306314, -0.25529561,\n",
       "          2.46743496,  0.90503556, -0.10348535, -0.6983225 , -0.81466905,\n",
       "          0.99590387,  2.29898383,  1.1478345 ],\n",
       "        [-0.7475933 ,  0.70490738,  0.98544689, -0.44514986,  0.16003956,\n",
       "          2.46743496,  0.90503556,  1.08211592, -0.6983225 , -0.89828712,\n",
       "          0.99590387,  1.29707587, -0.49876142],\n",
       "        [ 1.14775927,  0.70490738, -0.92981682, -1.24832398,  0.02788746,\n",
       "         -0.40527917, -0.97525383,  0.36228658, -0.6983225 , -0.39657867,\n",
       "          0.99590387,  1.29707587, -2.14535734],\n",
       "        [-1.41654126,  0.70490738,  0.98544689, -0.67462818, -0.12314351,\n",
       "          2.46743496,  0.90503556,  1.88663107, -0.6983225 , -0.22934252,\n",
       "         -2.22574489, -0.70674006,  1.1478345 ],\n",
       "        [-1.41654126,  0.70490738, -0.92981682,  0.47276343, -0.38744772,\n",
       "         -0.40527917,  0.90503556,  1.20914463, -0.6983225 , -0.89828712,\n",
       "          0.99590387, -0.70674006, -0.49876142],\n",
       "        [ 0.70179396, -1.4186261 , -0.92981682,  0.75961133,  1.1417409 ,\n",
       "         -0.40527917, -0.97525383, -0.14582825,  1.43200311, -0.06210637,\n",
       "         -0.61492051, -0.70674006,  1.1478345 ],\n",
       "        [-2.19698056,  0.70490738, -0.92981682, -0.67462818, -0.91605613,\n",
       "         -0.40527917,  0.90503556, -0.82331469,  1.43200311,  0.43960208,\n",
       "         -0.61492051, -0.70674006,  1.1478345 ],\n",
       "        [ 1.25925059,  0.70490738, -0.92981682, -1.13358482, -0.65175192,\n",
       "         -0.40527917, -0.97525383, -0.73862889,  1.43200311, -0.81466905,\n",
       "          0.99590387,  0.29516791, -0.49876142],\n",
       "        [-1.52803259,  0.70490738,  0.02781503, -1.24832398, -0.21753787,\n",
       "         -0.40527917,  0.90503556,  0.15057206, -0.6983225 , -0.89828712,\n",
       "          0.99590387, -0.70674006, -0.49876142],\n",
       "        [ 0.92477661,  0.70490738, -0.92981682, -0.10093237,  1.57595495,\n",
       "          2.46743496, -0.97525383, -0.73862889,  1.43200311,  0.60683823,\n",
       "          0.99590387,  2.29898383,  1.1478345 ],\n",
       "        [ 0.36731998,  0.70490738, -0.92981682,  0.81698091, -0.53847869,\n",
       "         -0.40527917,  0.90503556, -1.88188726, -0.6983225 ,  0.77407438,\n",
       "         -0.61492051,  0.29516791,  1.1478345 ],\n",
       "        [ 0.70179396,  0.70490738,  1.94307874,  0.12854595, -0.23641674,\n",
       "         -0.40527917,  0.90503556, -0.18817116, -0.6983225 ,  1.27578283,\n",
       "         -0.61492051,  1.29707587, -0.49876142],\n",
       "        [-1.75101525, -1.4186261 ,  0.98544689,  0.35802427, -0.50072095,\n",
       "         -0.40527917,  0.90503556,  0.10822916, -0.6983225 , -0.89828712,\n",
       "         -0.61492051, -0.70674006, -0.49876142],\n",
       "        [-0.30162799,  0.70490738,  0.02781503,  0.12854595, -0.85941951,\n",
       "         -0.40527917,  0.90503556,  0.36228658, -0.6983225 , -0.22934252,\n",
       "          0.99590387,  0.29516791, -0.49876142],\n",
       "        [ 0.4788113 ,  0.70490738, -0.92981682,  2.19385084,  1.50043946,\n",
       "         -0.40527917, -0.97525383, -0.39988567,  1.43200311,  1.94472743,\n",
       "         -2.22574489, -0.70674006,  1.1478345 ],\n",
       "        [ 0.36731998,  0.70490738, -0.92981682, -0.21567153,  0.23555505,\n",
       "         -0.40527917, -0.97525383, -0.82331469,  1.43200311,  1.61025513,\n",
       "         -0.61492051,  1.29707587,  1.1478345 ],\n",
       "        [-1.52803259, -1.4186261 ,  0.02781503, -0.3304107 ,  1.12286202,\n",
       "         -0.40527917,  0.90503556,  0.57400109, -0.6983225 , -0.89828712,\n",
       "          0.99590387, -0.70674006, -0.49876142],\n",
       "        [-0.30162799,  0.70490738,  0.98544689,  2.30859   , -0.89717725,\n",
       "          2.46743496,  0.90503556,  0.53165819, -0.6983225 , -0.48019675,\n",
       "          0.99590387, -0.70674006,  1.1478345 ],\n",
       "        [-2.19698056,  0.70490738,  0.02781503, -0.55988902, -1.02932936,\n",
       "         -0.40527917,  0.90503556,  1.03977302, -0.6983225 , -0.89828712,\n",
       "          0.99590387, -0.70674006, -0.49876142],\n",
       "        [ 1.03626794,  0.70490738, -0.92981682,  0.75961133, -0.65175192,\n",
       "         -0.40527917, -0.97525383, -0.73862889, -0.6983225 ,  0.77407438,\n",
       "         -0.61492051,  1.29707587, -2.14535734],\n",
       "        [ 0.4788113 , -1.4186261 , -0.92981682,  2.42332916,  0.04676633,\n",
       "         -0.40527917,  0.90503556, -0.27285696,  1.43200311, -0.89828712,\n",
       "         -0.61492051, -0.70674006, -0.49876142],\n",
       "        [-1.08206728,  0.70490738,  0.02781503, -0.21567153,  1.16061977,\n",
       "         -0.40527917, -0.97525383,  0.87040141, -0.6983225 , -0.89828712,\n",
       "          0.99590387, -0.70674006, -0.49876142],\n",
       "        [-1.30504994, -1.4186261 , -0.92981682,  0.01380679,  1.78362253,\n",
       "          2.46743496, -0.97525383, -0.56925728,  1.43200311,  1.61025513,\n",
       "         -0.61492051, -0.70674006,  1.1478345 ],\n",
       "        [ 0.92477661,  0.70490738, -0.92981682, -0.10093237,  0.14116069,\n",
       "         -0.40527917, -0.97525383, -0.10348535, -0.6983225 ,  0.27236593,\n",
       "         -0.61492051,  0.29516791,  1.1478345 ],\n",
       "        [ 0.25582865,  0.70490738, -0.92981682,  0.47276343, -1.02932936,\n",
       "         -0.40527917,  0.90503556, -0.06114245, -0.6983225 , -0.56381482,\n",
       "         -0.61492051, -0.70674006, -2.14535734],\n",
       "        [ 0.25582865, -1.4186261 , -0.92981682, -0.21567153,  1.06622541,\n",
       "         -0.40527917, -0.97525383,  0.40462948, -0.6983225 , -0.89828712,\n",
       "          0.99590387,  0.29516791, -0.49876142],\n",
       "        [-0.30162799,  0.70490738,  0.98544689,  0.35802427, -0.44408433,\n",
       "         -0.40527917,  0.90503556,  0.8280585 , -0.6983225 , -0.89828712,\n",
       "          0.99590387,  3.30089179, -0.49876142],\n",
       "        [-0.30162799,  0.70490738, -0.92981682, -0.38778028, -0.65175192,\n",
       "         -0.40527917,  0.90503556,  0.7857156 , -0.6983225 , -0.06210637,\n",
       "          0.99590387,  1.29707587,  1.1478345 ],\n",
       "        [-0.41311932,  0.70490738,  1.94307874, -0.38778028, -0.63287305,\n",
       "         -0.40527917, -0.97525383, -1.03502921,  1.43200311,  0.27236593,\n",
       "          0.99590387,  0.29516791, -0.49876142],\n",
       "        [ 1.7052159 ,  0.70490738,  0.02781503,  1.39067672, -0.02874915,\n",
       "         -0.40527917, -0.97525383, -0.27285696, -0.6983225 , -0.89828712,\n",
       "          0.99590387, -0.70674006, -0.49876142],\n",
       "        [-1.52803259,  0.70490738,  0.98544689, -0.10093237, -0.61399418,\n",
       "         -0.40527917, -0.97525383,  0.7857156 , -0.6983225 ,  0.77407438,\n",
       "         -0.61492051, -0.70674006, -0.49876142],\n",
       "        [-1.52803259,  0.70490738, -0.92981682, -1.24832398, -1.40690679,\n",
       "         -0.40527917, -0.97525383,  0.36228658, -0.6983225 , -0.89828712,\n",
       "          0.99590387, -0.70674006,  1.1478345 ],\n",
       "        [ 1.25925059,  0.70490738,  0.02781503,  1.62015504, -0.00987028,\n",
       "         -0.40527917,  0.90503556, -1.24674372,  1.43200311, -0.89828712,\n",
       "         -0.61492051,  2.29898383, -2.14535734],\n",
       "        [-1.19355861,  0.70490738,  0.02781503, -0.67462818,  0.31107054,\n",
       "         -0.40527917,  0.90503556,  0.99743011, -0.6983225 , -0.89828712,\n",
       "          0.99590387, -0.70674006,  1.1478345 ],\n",
       "        [-0.30162799,  0.70490738,  0.02781503, -0.67462818,  1.48156059,\n",
       "         -0.40527917,  0.90503556,  0.95508721, -0.6983225 , -0.73105097,\n",
       "          0.99590387, -0.70674006, -0.49876142],\n",
       "        [ 2.15118121, -1.4186261 ,  0.02781503, -0.67462818,  0.42434377,\n",
       "         -0.40527917, -0.97525383, -1.20440082,  1.43200311, -0.73105097,\n",
       "          0.99590387,  0.29516791, -0.49876142],\n",
       "        [-1.52803259, -1.4186261 ,  0.98544689, -1.13358482,  0.4054649 ,\n",
       "         -0.40527917, -0.97525383,  0.95508721,  1.43200311, -0.89828712,\n",
       "          0.99590387, -0.70674006, -0.49876142],\n",
       "        [-1.52803259,  0.70490738,  0.02781503,  0.18591553, -0.82166177,\n",
       "         -0.40527917,  0.90503556, -0.73862889, -0.6983225 , -0.89828712,\n",
       "         -0.61492051, -0.70674006, -2.14535734],\n",
       "        [-1.75101525, -1.4186261 ,  0.98544689, -2.16623727, -0.89717725,\n",
       "         -0.40527917,  0.90503556,  1.25148753, -0.6983225 , -0.89828712,\n",
       "          0.99590387, -0.70674006, -0.49876142],\n",
       "        [ 0.4788113 ,  0.70490738,  1.94307874,  2.19385084,  0.78304233,\n",
       "         -0.40527917, -0.97525383,  0.40462948, -0.6983225 , -0.73105097,\n",
       "         -0.61492051, -0.70674006,  1.1478345 ],\n",
       "        [-1.19355861, -1.4186261 ,  0.98544689, -0.78936734, -0.08538577,\n",
       "         -0.40527917,  0.90503556, -0.01879955, -0.6983225 , -0.6474329 ,\n",
       "         -0.61492051,  0.29516791, -0.49876142],\n",
       "        [ 0.25582865, -1.4186261 ,  0.02781503, -0.10093237, -0.198659  ,\n",
       "         -0.40527917, -0.97525383,  1.03977302, -0.6983225 , -0.89828712,\n",
       "         -0.61492051,  0.29516791, -0.49876142],\n",
       "        [ 0.4788113 ,  0.70490738,  0.98544689,  1.04645923, -0.65175192,\n",
       "          2.46743496,  0.90503556,  0.31994367, -0.6983225 ,  0.43960208,\n",
       "          0.99590387, -0.70674006, -0.49876142],\n",
       "        [-0.52461064, -1.4186261 ,  0.02781503, -0.67462818, -0.04762802,\n",
       "         -0.40527917,  0.90503556,  0.53165819, -0.6983225 ,  0.0215117 ,\n",
       "          0.99590387, -0.70674006, -0.49876142],\n",
       "        [ 0.36731998, -1.4186261 , -0.92981682, -1.82201979,  0.02788746,\n",
       "         -0.40527917, -0.97525383, -1.16205791, -0.6983225 , -0.06210637,\n",
       "         -0.61492051, -0.70674006, -0.49876142]]))"
      ]
     },
     "execution_count": 15,
     "metadata": {},
     "output_type": "execute_result"
    }
   ],
   "source": [
    "X_train, X_test"
   ]
  },
  {
   "cell_type": "code",
   "execution_count": 16,
   "id": "joined-lyric",
   "metadata": {
    "execution": {
     "iopub.execute_input": "2021-05-03T02:11:18.985502Z",
     "iopub.status.busy": "2021-05-03T02:11:18.984897Z",
     "iopub.status.idle": "2021-05-03T02:11:19.085224Z",
     "shell.execute_reply": "2021-05-03T02:11:19.084614Z"
    },
    "papermill": {
     "duration": 0.13144,
     "end_time": "2021-05-03T02:11:19.085362",
     "exception": false,
     "start_time": "2021-05-03T02:11:18.953922",
     "status": "completed"
    },
    "tags": []
   },
   "outputs": [
    {
     "name": "stdout",
     "output_type": "stream",
     "text": [
      "Confusion Matrix : \n",
      " [[22  5]\n",
      " [ 3 31]]\n",
      "The accuracy of Logistic Regression is :  86.88524590163934 %\n"
     ]
    }
   ],
   "source": [
    "from sklearn.linear_model import LogisticRegression\n",
    "from sklearn.metrics import confusion_matrix\n",
    "from sklearn.metrics import accuracy_score\n",
    "\n",
    "model = LogisticRegression()\n",
    "model.fit(X_train, y_train)\n",
    "predicted=model.predict(X_test)\n",
    "conf = confusion_matrix(y_test, predicted)\n",
    "print (\"Confusion Matrix : \\n\", conf)\n",
    "print (\"The accuracy of Logistic Regression is : \", accuracy_score(y_test, predicted)*100, \"%\")"
   ]
  },
  {
   "cell_type": "code",
   "execution_count": 17,
   "id": "eligible-toilet",
   "metadata": {
    "execution": {
     "iopub.execute_input": "2021-05-03T02:11:19.150357Z",
     "iopub.status.busy": "2021-05-03T02:11:19.149574Z",
     "iopub.status.idle": "2021-05-03T02:11:19.258588Z",
     "shell.execute_reply": "2021-05-03T02:11:19.259503Z"
    },
    "papermill": {
     "duration": 0.14492,
     "end_time": "2021-05-03T02:11:19.259705",
     "exception": false,
     "start_time": "2021-05-03T02:11:19.114785",
     "status": "completed"
    },
    "tags": []
   },
   "outputs": [
    {
     "name": "stdout",
     "output_type": "stream",
     "text": [
      "[02:11:19] WARNING: ../src/learner.cc:1095: Starting in XGBoost 1.3.0, the default evaluation metric used with the objective 'binary:logistic' was changed from 'error' to 'logloss'. Explicitly set eval_metric if you'd like to restore the old behavior.\n",
      "The accuracy of XGB is :  85.24590163934425 %\n"
     ]
    },
    {
     "name": "stderr",
     "output_type": "stream",
     "text": [
      "/opt/conda/lib/python3.7/site-packages/xgboost/sklearn.py:1146: UserWarning: The use of label encoder in XGBClassifier is deprecated and will be removed in a future release. To remove this warning, do the following: 1) Pass option use_label_encoder=False when constructing XGBClassifier object; and 2) Encode your labels (y) as integers starting with 0, i.e. 0, 1, 2, ..., [num_class - 1].\n",
      "  warnings.warn(label_encoder_deprecation_msg, UserWarning)\n"
     ]
    }
   ],
   "source": [
    "from xgboost import XGBClassifier\n",
    "from sklearn.metrics import accuracy_score\n",
    "\n",
    "# train\n",
    "xgb = XGBClassifier(n_estimators = 3, learning_rate = 0.7, max_depth = 7)\n",
    "xgb.fit(X_train, y_train)\n",
    "# prediction\n",
    "w_pred = xgb.predict(X_test)\n",
    "print(\"The accuracy of XGB is : \", accuracy_score(y_test, w_pred)*100, \"%\")"
   ]
  },
  {
   "cell_type": "code",
   "execution_count": 18,
   "id": "parallel-aurora",
   "metadata": {
    "execution": {
     "iopub.execute_input": "2021-05-03T02:11:19.327377Z",
     "iopub.status.busy": "2021-05-03T02:11:19.326742Z",
     "iopub.status.idle": "2021-05-03T02:11:19.335284Z",
     "shell.execute_reply": "2021-05-03T02:11:19.334775Z"
    },
    "papermill": {
     "duration": 0.043838,
     "end_time": "2021-05-03T02:11:19.335414",
     "exception": false,
     "start_time": "2021-05-03T02:11:19.291576",
     "status": "completed"
    },
    "tags": []
   },
   "outputs": [
    {
     "name": "stdout",
     "output_type": "stream",
     "text": [
      "The accuracy of SVM is :  93.44262295081968 %\n"
     ]
    }
   ],
   "source": [
    "from sklearn.svm import SVC\n",
    "\n",
    "model = SVC()\n",
    "model.fit(X_train, y_train)\n",
    "  \n",
    "predicted = model.predict(X_test)\n",
    "print(\"The accuracy of SVM is : \", accuracy_score(y_test, predicted)*100, \"%\")"
   ]
  },
  {
   "cell_type": "code",
   "execution_count": 19,
   "id": "composite-child",
   "metadata": {
    "execution": {
     "iopub.execute_input": "2021-05-03T02:11:19.401353Z",
     "iopub.status.busy": "2021-05-03T02:11:19.400568Z",
     "iopub.status.idle": "2021-05-03T02:11:19.729695Z",
     "shell.execute_reply": "2021-05-03T02:11:19.730189Z"
    },
    "papermill": {
     "duration": 0.36463,
     "end_time": "2021-05-03T02:11:19.730374",
     "exception": false,
     "start_time": "2021-05-03T02:11:19.365744",
     "status": "completed"
    },
    "tags": []
   },
   "outputs": [
    {
     "name": "stdout",
     "output_type": "stream",
     "text": [
      "The accuracy of Random Forest is :  83.60655737704919 %\n"
     ]
    }
   ],
   "source": [
    "from sklearn.ensemble import RandomForestRegressor\n",
    "\n",
    "model = RandomForestRegressor(n_estimators = 100, random_state = 0)  \n",
    "model.fit(X_train, y_train)  \n",
    "predicted = model.predict(X_test)\n",
    "print(\"The accuracy of Random Forest is : \", accuracy_score(y_test, predicted.round())*100, \"%\")"
   ]
  },
  {
   "cell_type": "code",
   "execution_count": 20,
   "id": "threatened-german",
   "metadata": {
    "execution": {
     "iopub.execute_input": "2021-05-03T02:11:19.796463Z",
     "iopub.status.busy": "2021-05-03T02:11:19.795524Z",
     "iopub.status.idle": "2021-05-03T02:11:19.806660Z",
     "shell.execute_reply": "2021-05-03T02:11:19.807107Z"
    },
    "papermill": {
     "duration": 0.045865,
     "end_time": "2021-05-03T02:11:19.807279",
     "exception": false,
     "start_time": "2021-05-03T02:11:19.761414",
     "status": "completed"
    },
    "tags": []
   },
   "outputs": [
    {
     "name": "stdout",
     "output_type": "stream",
     "text": [
      "The accuracy of Random Forest is :  81.9672131147541 %\n"
     ]
    }
   ],
   "source": [
    "from sklearn.neighbors import KNeighborsClassifier\n",
    "\n",
    "classifier = KNeighborsClassifier(n_neighbors = 2)\n",
    "classifier.fit(X_train, y_train)\n",
    "predicted = classifier.predict(X_test)\n",
    "print(\"The accuracy of Random Forest is : \", accuracy_score(y_test, predicted.round())*100, \"%\")\n"
   ]
  },
  {
   "cell_type": "code",
   "execution_count": 21,
   "id": "combined-newman",
   "metadata": {
    "execution": {
     "iopub.execute_input": "2021-05-03T02:11:19.873121Z",
     "iopub.status.busy": "2021-05-03T02:11:19.872190Z",
     "iopub.status.idle": "2021-05-03T02:11:19.884928Z",
     "shell.execute_reply": "2021-05-03T02:11:19.885788Z"
    },
    "papermill": {
     "duration": 0.047586,
     "end_time": "2021-05-03T02:11:19.886089",
     "exception": false,
     "start_time": "2021-05-03T02:11:19.838503",
     "status": "completed"
    },
    "tags": []
   },
   "outputs": [
    {
     "name": "stdout",
     "output_type": "stream",
     "text": [
      "The accuracy of LR is :  86.88524590163934 %\n"
     ]
    }
   ],
   "source": [
    "from sklearn.linear_model import LogisticRegression\n",
    "\n",
    "LR = LogisticRegression(random_state=0, solver='lbfgs', multi_class='ovr').fit(X_train, y_train)\n",
    "predicted = LR.predict(X_test)\n",
    "print(\"The accuracy of LR is : \", accuracy_score(y_test, predicted.round())*100, \"%\")"
   ]
  },
  {
   "cell_type": "code",
   "execution_count": 22,
   "id": "supreme-girlfriend",
   "metadata": {
    "execution": {
     "iopub.execute_input": "2021-05-03T02:11:19.954194Z",
     "iopub.status.busy": "2021-05-03T02:11:19.953613Z",
     "iopub.status.idle": "2021-05-03T02:11:20.062255Z",
     "shell.execute_reply": "2021-05-03T02:11:20.063423Z"
    },
    "papermill": {
     "duration": 0.144822,
     "end_time": "2021-05-03T02:11:20.063682",
     "exception": false,
     "start_time": "2021-05-03T02:11:19.918860",
     "status": "completed"
    },
    "tags": []
   },
   "outputs": [
    {
     "name": "stdout",
     "output_type": "stream",
     "text": [
      "The accuracy of Neural Network is :  85.24590163934425 %\n"
     ]
    }
   ],
   "source": [
    "from sklearn.neural_network import MLPClassifier\n",
    "\n",
    "NN = MLPClassifier(solver='lbfgs', alpha=1e-5, hidden_layer_sizes=(100, 40), random_state=0)\n",
    "NN.fit(X_train, y_train)\n",
    "predicted = NN.predict(X_test)\n",
    "print(\"The accuracy of Neural Network is : \", accuracy_score(y_test, predicted.round())*100, \"%\")"
   ]
  },
  {
   "cell_type": "code",
   "execution_count": 23,
   "id": "viral-temperature",
   "metadata": {
    "execution": {
     "iopub.execute_input": "2021-05-03T02:11:20.182541Z",
     "iopub.status.busy": "2021-05-03T02:11:20.181852Z",
     "iopub.status.idle": "2021-05-03T02:11:20.188953Z",
     "shell.execute_reply": "2021-05-03T02:11:20.188470Z"
    },
    "papermill": {
     "duration": 0.067574,
     "end_time": "2021-05-03T02:11:20.189096",
     "exception": false,
     "start_time": "2021-05-03T02:11:20.121522",
     "status": "completed"
    },
    "tags": []
   },
   "outputs": [
    {
     "name": "stdout",
     "output_type": "stream",
     "text": [
      "The accuracy of GaussianNB is :  90.1639344262295 %\n"
     ]
    }
   ],
   "source": [
    "from sklearn.naive_bayes import GaussianNB\n",
    "\n",
    "gnb = GaussianNB()\n",
    "predicted = gnb.fit(X_train, y_train).predict(X_test)\n",
    "print(\"The accuracy of GaussianNB is : \", accuracy_score(y_test, predicted.round())*100, \"%\")"
   ]
  },
  {
   "cell_type": "code",
   "execution_count": 24,
   "id": "distinguished-traveler",
   "metadata": {
    "execution": {
     "iopub.execute_input": "2021-05-03T02:11:20.263244Z",
     "iopub.status.busy": "2021-05-03T02:11:20.262550Z",
     "iopub.status.idle": "2021-05-03T02:11:27.183944Z",
     "shell.execute_reply": "2021-05-03T02:11:27.184957Z"
    },
    "papermill": {
     "duration": 6.963276,
     "end_time": "2021-05-03T02:11:27.185275",
     "exception": false,
     "start_time": "2021-05-03T02:11:20.221999",
     "status": "completed"
    },
    "tags": []
   },
   "outputs": [
    {
     "name": "stdout",
     "output_type": "stream",
     "text": [
      "Model: \"sequential\"\n",
      "_________________________________________________________________\n",
      "Layer (type)                 Output Shape              Param #   \n",
      "=================================================================\n",
      "dense (Dense)                (None, 241, 16)           224       \n",
      "_________________________________________________________________\n",
      "dense_1 (Dense)              (None, 241, 1)            17        \n",
      "=================================================================\n",
      "Total params: 241\n",
      "Trainable params: 241\n",
      "Non-trainable params: 0\n",
      "_________________________________________________________________\n",
      "2/2 [==============================] - 0s 3ms/step - loss: 0.3301 - accuracy: 0.9180\n",
      "The accuracy of Keras is :  91.80327868852459 %\n"
     ]
    }
   ],
   "source": [
    "from keras.models import Sequential\n",
    "from keras.layers import Dense, Activation, Dropout\n",
    "from keras import optimizers\n",
    "import tensorflow as tf\n",
    "import random as python_random\n",
    "\n",
    "np.random.seed(42)\n",
    "python_random.seed(42)\n",
    "tf.random.set_seed(42)\n",
    "\n",
    "model = Sequential()\n",
    "model.add(Dense(16, input_shape = (X_train.shape), activation = 'gelu'))\n",
    "model.add(Dense(1, activation='sigmoid'))\n",
    "\n",
    "model.compile(optimizer = optimizers.RMSprop(lr=0.001), loss = 'binary_crossentropy', metrics = ['accuracy'])    \n",
    "model.summary()\n",
    "model.fit(X_train, y_train, batch_size = 128, epochs = 120, verbose = 0)\n",
    "results = model.evaluate(X_test, y_test)\n",
    "pre = model.predict(X_test)\n",
    "print(\"The accuracy of Keras is : \", accuracy_score(y_test, pre.round())*100, \"%\")"
   ]
  }
 ],
 "metadata": {
  "kernelspec": {
   "display_name": "Python 3",
   "language": "python",
   "name": "python3"
  },
  "language_info": {
   "codemirror_mode": {
    "name": "ipython",
    "version": 3
   },
   "file_extension": ".py",
   "mimetype": "text/x-python",
   "name": "python",
   "nbconvert_exporter": "python",
   "pygments_lexer": "ipython3",
   "version": "3.7.10"
  },
  "papermill": {
   "default_parameters": {},
   "duration": 20.7812,
   "end_time": "2021-05-03T02:11:28.721838",
   "environment_variables": {},
   "exception": null,
   "input_path": "__notebook__.ipynb",
   "output_path": "__notebook__.ipynb",
   "parameters": {},
   "start_time": "2021-05-03T02:11:07.940638",
   "version": "2.3.3"
  }
 },
 "nbformat": 4,
 "nbformat_minor": 5
}
