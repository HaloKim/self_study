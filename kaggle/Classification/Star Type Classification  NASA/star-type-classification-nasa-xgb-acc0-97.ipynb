{
 "cells": [
  {
   "cell_type": "code",
   "execution_count": 1,
   "id": "virtual-traffic",
   "metadata": {
    "_cell_guid": "b1076dfc-b9ad-4769-8c92-a6c4dae69d19",
    "_uuid": "8f2839f25d086af736a60e9eeb907d3b93b6e0e5",
    "execution": {
     "iopub.execute_input": "2021-04-23T04:30:40.171670Z",
     "iopub.status.busy": "2021-04-23T04:30:40.170476Z",
     "iopub.status.idle": "2021-04-23T04:30:40.190392Z",
     "shell.execute_reply": "2021-04-23T04:30:40.191027Z"
    },
    "papermill": {
     "duration": 0.037633,
     "end_time": "2021-04-23T04:30:40.191315",
     "exception": false,
     "start_time": "2021-04-23T04:30:40.153682",
     "status": "completed"
    },
    "tags": []
   },
   "outputs": [
    {
     "name": "stdout",
     "output_type": "stream",
     "text": [
      "/kaggle/input/star-type-classification/Stars.csv\n"
     ]
    }
   ],
   "source": [
    "# This Python 3 environment comes with many helpful analytics libraries installed\n",
    "# It is defined by the kaggle/python Docker image: https://github.com/kaggle/docker-python\n",
    "# For example, here's several helpful packages to load\n",
    "\n",
    "import numpy as np # linear algebra\n",
    "import pandas as pd # data processing, CSV file I/O (e.g. pd.read_csv)\n",
    "\n",
    "# Input data files are available in the read-only \"../input/\" directory\n",
    "# For example, running this (by clicking run or pressing Shift+Enter) will list all files under the input directory\n",
    "\n",
    "import os\n",
    "for dirname, _, filenames in os.walk('/kaggle/input'):\n",
    "    for filename in filenames:\n",
    "        print(os.path.join(dirname, filename))\n",
    "\n",
    "# You can write up to 20GB to the current directory (/kaggle/working/) that gets preserved as output when you create a version using \"Save & Run All\" \n",
    "# You can also write temporary files to /kaggle/temp/, but they won't be saved outside of the current session"
   ]
  },
  {
   "cell_type": "code",
   "execution_count": 2,
   "id": "injured-classic",
   "metadata": {
    "execution": {
     "iopub.execute_input": "2021-04-23T04:30:40.221921Z",
     "iopub.status.busy": "2021-04-23T04:30:40.221224Z",
     "iopub.status.idle": "2021-04-23T04:30:40.235431Z",
     "shell.execute_reply": "2021-04-23T04:30:40.234730Z"
    },
    "papermill": {
     "duration": 0.031176,
     "end_time": "2021-04-23T04:30:40.235588",
     "exception": false,
     "start_time": "2021-04-23T04:30:40.204412",
     "status": "completed"
    },
    "tags": []
   },
   "outputs": [],
   "source": [
    "df = pd.read_csv('/kaggle/input/star-type-classification/Stars.csv')"
   ]
  },
  {
   "cell_type": "code",
   "execution_count": 3,
   "id": "chinese-option",
   "metadata": {
    "execution": {
     "iopub.execute_input": "2021-04-23T04:30:40.264414Z",
     "iopub.status.busy": "2021-04-23T04:30:40.263638Z",
     "iopub.status.idle": "2021-04-23T04:30:40.301780Z",
     "shell.execute_reply": "2021-04-23T04:30:40.302382Z"
    },
    "papermill": {
     "duration": 0.054306,
     "end_time": "2021-04-23T04:30:40.302570",
     "exception": false,
     "start_time": "2021-04-23T04:30:40.248264",
     "status": "completed"
    },
    "tags": []
   },
   "outputs": [
    {
     "data": {
      "text/html": [
       "<div>\n",
       "<style scoped>\n",
       "    .dataframe tbody tr th:only-of-type {\n",
       "        vertical-align: middle;\n",
       "    }\n",
       "\n",
       "    .dataframe tbody tr th {\n",
       "        vertical-align: top;\n",
       "    }\n",
       "\n",
       "    .dataframe thead th {\n",
       "        text-align: right;\n",
       "    }\n",
       "</style>\n",
       "<table border=\"1\" class=\"dataframe\">\n",
       "  <thead>\n",
       "    <tr style=\"text-align: right;\">\n",
       "      <th></th>\n",
       "      <th>Temperature</th>\n",
       "      <th>L</th>\n",
       "      <th>R</th>\n",
       "      <th>A_M</th>\n",
       "      <th>Color</th>\n",
       "      <th>Spectral_Class</th>\n",
       "      <th>Type</th>\n",
       "    </tr>\n",
       "  </thead>\n",
       "  <tbody>\n",
       "    <tr>\n",
       "      <th>0</th>\n",
       "      <td>3068</td>\n",
       "      <td>0.002400</td>\n",
       "      <td>0.1700</td>\n",
       "      <td>16.12</td>\n",
       "      <td>Red</td>\n",
       "      <td>M</td>\n",
       "      <td>0</td>\n",
       "    </tr>\n",
       "    <tr>\n",
       "      <th>1</th>\n",
       "      <td>3042</td>\n",
       "      <td>0.000500</td>\n",
       "      <td>0.1542</td>\n",
       "      <td>16.60</td>\n",
       "      <td>Red</td>\n",
       "      <td>M</td>\n",
       "      <td>0</td>\n",
       "    </tr>\n",
       "    <tr>\n",
       "      <th>2</th>\n",
       "      <td>2600</td>\n",
       "      <td>0.000300</td>\n",
       "      <td>0.1020</td>\n",
       "      <td>18.70</td>\n",
       "      <td>Red</td>\n",
       "      <td>M</td>\n",
       "      <td>0</td>\n",
       "    </tr>\n",
       "    <tr>\n",
       "      <th>3</th>\n",
       "      <td>2800</td>\n",
       "      <td>0.000200</td>\n",
       "      <td>0.1600</td>\n",
       "      <td>16.65</td>\n",
       "      <td>Red</td>\n",
       "      <td>M</td>\n",
       "      <td>0</td>\n",
       "    </tr>\n",
       "    <tr>\n",
       "      <th>4</th>\n",
       "      <td>1939</td>\n",
       "      <td>0.000138</td>\n",
       "      <td>0.1030</td>\n",
       "      <td>20.06</td>\n",
       "      <td>Red</td>\n",
       "      <td>M</td>\n",
       "      <td>0</td>\n",
       "    </tr>\n",
       "    <tr>\n",
       "      <th>...</th>\n",
       "      <td>...</td>\n",
       "      <td>...</td>\n",
       "      <td>...</td>\n",
       "      <td>...</td>\n",
       "      <td>...</td>\n",
       "      <td>...</td>\n",
       "      <td>...</td>\n",
       "    </tr>\n",
       "    <tr>\n",
       "      <th>235</th>\n",
       "      <td>38940</td>\n",
       "      <td>374830.000000</td>\n",
       "      <td>1356.0000</td>\n",
       "      <td>-9.93</td>\n",
       "      <td>Blue</td>\n",
       "      <td>O</td>\n",
       "      <td>5</td>\n",
       "    </tr>\n",
       "    <tr>\n",
       "      <th>236</th>\n",
       "      <td>30839</td>\n",
       "      <td>834042.000000</td>\n",
       "      <td>1194.0000</td>\n",
       "      <td>-10.63</td>\n",
       "      <td>Blue</td>\n",
       "      <td>O</td>\n",
       "      <td>5</td>\n",
       "    </tr>\n",
       "    <tr>\n",
       "      <th>237</th>\n",
       "      <td>8829</td>\n",
       "      <td>537493.000000</td>\n",
       "      <td>1423.0000</td>\n",
       "      <td>-10.73</td>\n",
       "      <td>White</td>\n",
       "      <td>A</td>\n",
       "      <td>5</td>\n",
       "    </tr>\n",
       "    <tr>\n",
       "      <th>238</th>\n",
       "      <td>9235</td>\n",
       "      <td>404940.000000</td>\n",
       "      <td>1112.0000</td>\n",
       "      <td>-11.23</td>\n",
       "      <td>White</td>\n",
       "      <td>A</td>\n",
       "      <td>5</td>\n",
       "    </tr>\n",
       "    <tr>\n",
       "      <th>239</th>\n",
       "      <td>37882</td>\n",
       "      <td>294903.000000</td>\n",
       "      <td>1783.0000</td>\n",
       "      <td>-7.80</td>\n",
       "      <td>Blue</td>\n",
       "      <td>O</td>\n",
       "      <td>5</td>\n",
       "    </tr>\n",
       "  </tbody>\n",
       "</table>\n",
       "<p>240 rows × 7 columns</p>\n",
       "</div>"
      ],
      "text/plain": [
       "     Temperature              L          R    A_M  Color Spectral_Class  Type\n",
       "0           3068       0.002400     0.1700  16.12    Red              M     0\n",
       "1           3042       0.000500     0.1542  16.60    Red              M     0\n",
       "2           2600       0.000300     0.1020  18.70    Red              M     0\n",
       "3           2800       0.000200     0.1600  16.65    Red              M     0\n",
       "4           1939       0.000138     0.1030  20.06    Red              M     0\n",
       "..           ...            ...        ...    ...    ...            ...   ...\n",
       "235        38940  374830.000000  1356.0000  -9.93   Blue              O     5\n",
       "236        30839  834042.000000  1194.0000 -10.63   Blue              O     5\n",
       "237         8829  537493.000000  1423.0000 -10.73  White              A     5\n",
       "238         9235  404940.000000  1112.0000 -11.23  White              A     5\n",
       "239        37882  294903.000000  1783.0000  -7.80   Blue              O     5\n",
       "\n",
       "[240 rows x 7 columns]"
      ]
     },
     "execution_count": 3,
     "metadata": {},
     "output_type": "execute_result"
    }
   ],
   "source": [
    "df"
   ]
  },
  {
   "cell_type": "code",
   "execution_count": 4,
   "id": "junior-fields",
   "metadata": {
    "execution": {
     "iopub.execute_input": "2021-04-23T04:30:40.337173Z",
     "iopub.status.busy": "2021-04-23T04:30:40.336411Z",
     "iopub.status.idle": "2021-04-23T04:30:40.339470Z",
     "shell.execute_reply": "2021-04-23T04:30:40.340011Z"
    },
    "papermill": {
     "duration": 0.022839,
     "end_time": "2021-04-23T04:30:40.340186",
     "exception": false,
     "start_time": "2021-04-23T04:30:40.317347",
     "status": "completed"
    },
    "tags": []
   },
   "outputs": [
    {
     "data": {
      "text/plain": [
       "Index(['Temperature', 'L', 'R', 'A_M', 'Color', 'Spectral_Class', 'Type'], dtype='object')"
      ]
     },
     "execution_count": 4,
     "metadata": {},
     "output_type": "execute_result"
    }
   ],
   "source": [
    "df.columns"
   ]
  },
  {
   "cell_type": "code",
   "execution_count": 5,
   "id": "molecular-great",
   "metadata": {
    "execution": {
     "iopub.execute_input": "2021-04-23T04:30:40.370333Z",
     "iopub.status.busy": "2021-04-23T04:30:40.369663Z",
     "iopub.status.idle": "2021-04-23T04:30:40.379651Z",
     "shell.execute_reply": "2021-04-23T04:30:40.378907Z"
    },
    "papermill": {
     "duration": 0.026258,
     "end_time": "2021-04-23T04:30:40.379871",
     "exception": false,
     "start_time": "2021-04-23T04:30:40.353613",
     "status": "completed"
    },
    "tags": []
   },
   "outputs": [
    {
     "data": {
      "text/plain": [
       "array(['Red', 'Blue White', 'White', 'Yellowish White', 'Blue white',\n",
       "       'Pale yellow orange', 'Blue', 'Blue-white', 'Whitish',\n",
       "       'yellow-white', 'Orange', 'White-Yellow', 'white', 'yellowish',\n",
       "       'Yellowish', 'Orange-Red', 'Blue-White'], dtype=object)"
      ]
     },
     "execution_count": 5,
     "metadata": {},
     "output_type": "execute_result"
    }
   ],
   "source": [
    "df.Color.unique()"
   ]
  },
  {
   "cell_type": "code",
   "execution_count": 6,
   "id": "alone-postage",
   "metadata": {
    "execution": {
     "iopub.execute_input": "2021-04-23T04:30:40.414085Z",
     "iopub.status.busy": "2021-04-23T04:30:40.413395Z",
     "iopub.status.idle": "2021-04-23T04:30:40.416344Z",
     "shell.execute_reply": "2021-04-23T04:30:40.416964Z"
    },
    "papermill": {
     "duration": 0.022688,
     "end_time": "2021-04-23T04:30:40.417133",
     "exception": false,
     "start_time": "2021-04-23T04:30:40.394445",
     "status": "completed"
    },
    "tags": []
   },
   "outputs": [
    {
     "data": {
      "text/plain": [
       "array(['M', 'B', 'A', 'F', 'O', 'K', 'G'], dtype=object)"
      ]
     },
     "execution_count": 6,
     "metadata": {},
     "output_type": "execute_result"
    }
   ],
   "source": [
    "df.Spectral_Class.unique()"
   ]
  },
  {
   "cell_type": "code",
   "execution_count": 7,
   "id": "valuable-girlfriend",
   "metadata": {
    "execution": {
     "iopub.execute_input": "2021-04-23T04:30:40.449876Z",
     "iopub.status.busy": "2021-04-23T04:30:40.449179Z",
     "iopub.status.idle": "2021-04-23T04:30:40.455985Z",
     "shell.execute_reply": "2021-04-23T04:30:40.456525Z"
    },
    "papermill": {
     "duration": 0.025062,
     "end_time": "2021-04-23T04:30:40.456715",
     "exception": false,
     "start_time": "2021-04-23T04:30:40.431653",
     "status": "completed"
    },
    "tags": []
   },
   "outputs": [
    {
     "data": {
      "text/plain": [
       "{'Red': 0,\n",
       " 'Blue White': 1,\n",
       " 'White': 2,\n",
       " 'Yellowish White': 3,\n",
       " 'Blue white': 4,\n",
       " 'Pale yellow orange': 5,\n",
       " 'Blue': 6,\n",
       " 'Blue-white': 7,\n",
       " 'Whitish': 8,\n",
       " 'yellow-white': 9,\n",
       " 'Orange': 10,\n",
       " 'White-Yellow': 11,\n",
       " 'white': 12,\n",
       " 'yellowish': 13,\n",
       " 'Yellowish': 14,\n",
       " 'Orange-Red': 15,\n",
       " 'Blue-White': 16}"
      ]
     },
     "execution_count": 7,
     "metadata": {},
     "output_type": "execute_result"
    }
   ],
   "source": [
    "color_dic = {}\n",
    "j = 0\n",
    "for i in df.Color.unique():\n",
    "    color_dic[i] = j\n",
    "    j += 1\n",
    "color_dic"
   ]
  },
  {
   "cell_type": "code",
   "execution_count": 8,
   "id": "optional-polish",
   "metadata": {
    "execution": {
     "iopub.execute_input": "2021-04-23T04:30:40.490147Z",
     "iopub.status.busy": "2021-04-23T04:30:40.489448Z",
     "iopub.status.idle": "2021-04-23T04:30:40.497132Z",
     "shell.execute_reply": "2021-04-23T04:30:40.497646Z"
    },
    "papermill": {
     "duration": 0.026176,
     "end_time": "2021-04-23T04:30:40.497805",
     "exception": false,
     "start_time": "2021-04-23T04:30:40.471629",
     "status": "completed"
    },
    "tags": []
   },
   "outputs": [
    {
     "data": {
      "text/plain": [
       "{'M': 0, 'B': 1, 'A': 2, 'F': 3, 'O': 4, 'K': 5, 'G': 6}"
      ]
     },
     "execution_count": 8,
     "metadata": {},
     "output_type": "execute_result"
    }
   ],
   "source": [
    "class_dic = {}\n",
    "j = 0\n",
    "for i in df.Spectral_Class.unique():\n",
    "    class_dic[i] = j\n",
    "    j += 1\n",
    "class_dic"
   ]
  },
  {
   "cell_type": "code",
   "execution_count": 9,
   "id": "radio-radiation",
   "metadata": {
    "execution": {
     "iopub.execute_input": "2021-04-23T04:30:40.532049Z",
     "iopub.status.busy": "2021-04-23T04:30:40.531418Z",
     "iopub.status.idle": "2021-04-23T04:30:40.551318Z",
     "shell.execute_reply": "2021-04-23T04:30:40.551895Z"
    },
    "papermill": {
     "duration": 0.038932,
     "end_time": "2021-04-23T04:30:40.552068",
     "exception": false,
     "start_time": "2021-04-23T04:30:40.513136",
     "status": "completed"
    },
    "tags": []
   },
   "outputs": [
    {
     "data": {
      "text/html": [
       "<div>\n",
       "<style scoped>\n",
       "    .dataframe tbody tr th:only-of-type {\n",
       "        vertical-align: middle;\n",
       "    }\n",
       "\n",
       "    .dataframe tbody tr th {\n",
       "        vertical-align: top;\n",
       "    }\n",
       "\n",
       "    .dataframe thead th {\n",
       "        text-align: right;\n",
       "    }\n",
       "</style>\n",
       "<table border=\"1\" class=\"dataframe\">\n",
       "  <thead>\n",
       "    <tr style=\"text-align: right;\">\n",
       "      <th></th>\n",
       "      <th>Temperature</th>\n",
       "      <th>L</th>\n",
       "      <th>R</th>\n",
       "      <th>A_M</th>\n",
       "      <th>Color</th>\n",
       "      <th>Spectral_Class</th>\n",
       "      <th>Type</th>\n",
       "    </tr>\n",
       "  </thead>\n",
       "  <tbody>\n",
       "    <tr>\n",
       "      <th>0</th>\n",
       "      <td>3068</td>\n",
       "      <td>0.002400</td>\n",
       "      <td>0.1700</td>\n",
       "      <td>16.12</td>\n",
       "      <td>Red</td>\n",
       "      <td>M</td>\n",
       "      <td>0</td>\n",
       "    </tr>\n",
       "    <tr>\n",
       "      <th>1</th>\n",
       "      <td>3042</td>\n",
       "      <td>0.000500</td>\n",
       "      <td>0.1542</td>\n",
       "      <td>16.60</td>\n",
       "      <td>Red</td>\n",
       "      <td>M</td>\n",
       "      <td>0</td>\n",
       "    </tr>\n",
       "    <tr>\n",
       "      <th>2</th>\n",
       "      <td>2600</td>\n",
       "      <td>0.000300</td>\n",
       "      <td>0.1020</td>\n",
       "      <td>18.70</td>\n",
       "      <td>Red</td>\n",
       "      <td>M</td>\n",
       "      <td>0</td>\n",
       "    </tr>\n",
       "    <tr>\n",
       "      <th>3</th>\n",
       "      <td>2800</td>\n",
       "      <td>0.000200</td>\n",
       "      <td>0.1600</td>\n",
       "      <td>16.65</td>\n",
       "      <td>Red</td>\n",
       "      <td>M</td>\n",
       "      <td>0</td>\n",
       "    </tr>\n",
       "    <tr>\n",
       "      <th>4</th>\n",
       "      <td>1939</td>\n",
       "      <td>0.000138</td>\n",
       "      <td>0.1030</td>\n",
       "      <td>20.06</td>\n",
       "      <td>Red</td>\n",
       "      <td>M</td>\n",
       "      <td>0</td>\n",
       "    </tr>\n",
       "    <tr>\n",
       "      <th>...</th>\n",
       "      <td>...</td>\n",
       "      <td>...</td>\n",
       "      <td>...</td>\n",
       "      <td>...</td>\n",
       "      <td>...</td>\n",
       "      <td>...</td>\n",
       "      <td>...</td>\n",
       "    </tr>\n",
       "    <tr>\n",
       "      <th>235</th>\n",
       "      <td>38940</td>\n",
       "      <td>374830.000000</td>\n",
       "      <td>1356.0000</td>\n",
       "      <td>-9.93</td>\n",
       "      <td>Blue</td>\n",
       "      <td>O</td>\n",
       "      <td>5</td>\n",
       "    </tr>\n",
       "    <tr>\n",
       "      <th>236</th>\n",
       "      <td>30839</td>\n",
       "      <td>834042.000000</td>\n",
       "      <td>1194.0000</td>\n",
       "      <td>-10.63</td>\n",
       "      <td>Blue</td>\n",
       "      <td>O</td>\n",
       "      <td>5</td>\n",
       "    </tr>\n",
       "    <tr>\n",
       "      <th>237</th>\n",
       "      <td>8829</td>\n",
       "      <td>537493.000000</td>\n",
       "      <td>1423.0000</td>\n",
       "      <td>-10.73</td>\n",
       "      <td>White</td>\n",
       "      <td>A</td>\n",
       "      <td>5</td>\n",
       "    </tr>\n",
       "    <tr>\n",
       "      <th>238</th>\n",
       "      <td>9235</td>\n",
       "      <td>404940.000000</td>\n",
       "      <td>1112.0000</td>\n",
       "      <td>-11.23</td>\n",
       "      <td>White</td>\n",
       "      <td>A</td>\n",
       "      <td>5</td>\n",
       "    </tr>\n",
       "    <tr>\n",
       "      <th>239</th>\n",
       "      <td>37882</td>\n",
       "      <td>294903.000000</td>\n",
       "      <td>1783.0000</td>\n",
       "      <td>-7.80</td>\n",
       "      <td>Blue</td>\n",
       "      <td>O</td>\n",
       "      <td>5</td>\n",
       "    </tr>\n",
       "  </tbody>\n",
       "</table>\n",
       "<p>240 rows × 7 columns</p>\n",
       "</div>"
      ],
      "text/plain": [
       "     Temperature              L          R    A_M  Color Spectral_Class  Type\n",
       "0           3068       0.002400     0.1700  16.12    Red              M     0\n",
       "1           3042       0.000500     0.1542  16.60    Red              M     0\n",
       "2           2600       0.000300     0.1020  18.70    Red              M     0\n",
       "3           2800       0.000200     0.1600  16.65    Red              M     0\n",
       "4           1939       0.000138     0.1030  20.06    Red              M     0\n",
       "..           ...            ...        ...    ...    ...            ...   ...\n",
       "235        38940  374830.000000  1356.0000  -9.93   Blue              O     5\n",
       "236        30839  834042.000000  1194.0000 -10.63   Blue              O     5\n",
       "237         8829  537493.000000  1423.0000 -10.73  White              A     5\n",
       "238         9235  404940.000000  1112.0000 -11.23  White              A     5\n",
       "239        37882  294903.000000  1783.0000  -7.80   Blue              O     5\n",
       "\n",
       "[240 rows x 7 columns]"
      ]
     },
     "execution_count": 9,
     "metadata": {},
     "output_type": "execute_result"
    }
   ],
   "source": [
    "import copy\n",
    "temp = copy.deepcopy(df)\n",
    "temp"
   ]
  },
  {
   "cell_type": "code",
   "execution_count": 10,
   "id": "informative-poverty",
   "metadata": {
    "execution": {
     "iopub.execute_input": "2021-04-23T04:30:40.587630Z",
     "iopub.status.busy": "2021-04-23T04:30:40.586900Z",
     "iopub.status.idle": "2021-04-23T04:30:40.871606Z",
     "shell.execute_reply": "2021-04-23T04:30:40.872097Z"
    },
    "papermill": {
     "duration": 0.304059,
     "end_time": "2021-04-23T04:30:40.872297",
     "exception": false,
     "start_time": "2021-04-23T04:30:40.568238",
     "status": "completed"
    },
    "tags": []
   },
   "outputs": [
    {
     "name": "stderr",
     "output_type": "stream",
     "text": [
      "/opt/conda/lib/python3.7/site-packages/pandas/core/indexing.py:1637: SettingWithCopyWarning: \n",
      "A value is trying to be set on a copy of a slice from a DataFrame\n",
      "\n",
      "See the caveats in the documentation: https://pandas.pydata.org/pandas-docs/stable/user_guide/indexing.html#returning-a-view-versus-a-copy\n",
      "  self._setitem_single_block(indexer, value, name)\n"
     ]
    },
    {
     "data": {
      "text/html": [
       "<div>\n",
       "<style scoped>\n",
       "    .dataframe tbody tr th:only-of-type {\n",
       "        vertical-align: middle;\n",
       "    }\n",
       "\n",
       "    .dataframe tbody tr th {\n",
       "        vertical-align: top;\n",
       "    }\n",
       "\n",
       "    .dataframe thead th {\n",
       "        text-align: right;\n",
       "    }\n",
       "</style>\n",
       "<table border=\"1\" class=\"dataframe\">\n",
       "  <thead>\n",
       "    <tr style=\"text-align: right;\">\n",
       "      <th></th>\n",
       "      <th>Temperature</th>\n",
       "      <th>L</th>\n",
       "      <th>R</th>\n",
       "      <th>A_M</th>\n",
       "      <th>Color</th>\n",
       "      <th>Spectral_Class</th>\n",
       "      <th>Type</th>\n",
       "    </tr>\n",
       "  </thead>\n",
       "  <tbody>\n",
       "    <tr>\n",
       "      <th>0</th>\n",
       "      <td>3068</td>\n",
       "      <td>0.002400</td>\n",
       "      <td>0.1700</td>\n",
       "      <td>16.12</td>\n",
       "      <td>0</td>\n",
       "      <td>0</td>\n",
       "      <td>0</td>\n",
       "    </tr>\n",
       "    <tr>\n",
       "      <th>1</th>\n",
       "      <td>3042</td>\n",
       "      <td>0.000500</td>\n",
       "      <td>0.1542</td>\n",
       "      <td>16.60</td>\n",
       "      <td>0</td>\n",
       "      <td>0</td>\n",
       "      <td>0</td>\n",
       "    </tr>\n",
       "    <tr>\n",
       "      <th>2</th>\n",
       "      <td>2600</td>\n",
       "      <td>0.000300</td>\n",
       "      <td>0.1020</td>\n",
       "      <td>18.70</td>\n",
       "      <td>0</td>\n",
       "      <td>0</td>\n",
       "      <td>0</td>\n",
       "    </tr>\n",
       "    <tr>\n",
       "      <th>3</th>\n",
       "      <td>2800</td>\n",
       "      <td>0.000200</td>\n",
       "      <td>0.1600</td>\n",
       "      <td>16.65</td>\n",
       "      <td>0</td>\n",
       "      <td>0</td>\n",
       "      <td>0</td>\n",
       "    </tr>\n",
       "    <tr>\n",
       "      <th>4</th>\n",
       "      <td>1939</td>\n",
       "      <td>0.000138</td>\n",
       "      <td>0.1030</td>\n",
       "      <td>20.06</td>\n",
       "      <td>0</td>\n",
       "      <td>0</td>\n",
       "      <td>0</td>\n",
       "    </tr>\n",
       "    <tr>\n",
       "      <th>...</th>\n",
       "      <td>...</td>\n",
       "      <td>...</td>\n",
       "      <td>...</td>\n",
       "      <td>...</td>\n",
       "      <td>...</td>\n",
       "      <td>...</td>\n",
       "      <td>...</td>\n",
       "    </tr>\n",
       "    <tr>\n",
       "      <th>235</th>\n",
       "      <td>38940</td>\n",
       "      <td>374830.000000</td>\n",
       "      <td>1356.0000</td>\n",
       "      <td>-9.93</td>\n",
       "      <td>6</td>\n",
       "      <td>4</td>\n",
       "      <td>5</td>\n",
       "    </tr>\n",
       "    <tr>\n",
       "      <th>236</th>\n",
       "      <td>30839</td>\n",
       "      <td>834042.000000</td>\n",
       "      <td>1194.0000</td>\n",
       "      <td>-10.63</td>\n",
       "      <td>6</td>\n",
       "      <td>4</td>\n",
       "      <td>5</td>\n",
       "    </tr>\n",
       "    <tr>\n",
       "      <th>237</th>\n",
       "      <td>8829</td>\n",
       "      <td>537493.000000</td>\n",
       "      <td>1423.0000</td>\n",
       "      <td>-10.73</td>\n",
       "      <td>2</td>\n",
       "      <td>2</td>\n",
       "      <td>5</td>\n",
       "    </tr>\n",
       "    <tr>\n",
       "      <th>238</th>\n",
       "      <td>9235</td>\n",
       "      <td>404940.000000</td>\n",
       "      <td>1112.0000</td>\n",
       "      <td>-11.23</td>\n",
       "      <td>2</td>\n",
       "      <td>2</td>\n",
       "      <td>5</td>\n",
       "    </tr>\n",
       "    <tr>\n",
       "      <th>239</th>\n",
       "      <td>37882</td>\n",
       "      <td>294903.000000</td>\n",
       "      <td>1783.0000</td>\n",
       "      <td>-7.80</td>\n",
       "      <td>6</td>\n",
       "      <td>4</td>\n",
       "      <td>5</td>\n",
       "    </tr>\n",
       "  </tbody>\n",
       "</table>\n",
       "<p>240 rows × 7 columns</p>\n",
       "</div>"
      ],
      "text/plain": [
       "     Temperature              L          R    A_M  Color  Spectral_Class  Type\n",
       "0           3068       0.002400     0.1700  16.12      0               0     0\n",
       "1           3042       0.000500     0.1542  16.60      0               0     0\n",
       "2           2600       0.000300     0.1020  18.70      0               0     0\n",
       "3           2800       0.000200     0.1600  16.65      0               0     0\n",
       "4           1939       0.000138     0.1030  20.06      0               0     0\n",
       "..           ...            ...        ...    ...    ...             ...   ...\n",
       "235        38940  374830.000000  1356.0000  -9.93      6               4     5\n",
       "236        30839  834042.000000  1194.0000 -10.63      6               4     5\n",
       "237         8829  537493.000000  1423.0000 -10.73      2               2     5\n",
       "238         9235  404940.000000  1112.0000 -11.23      2               2     5\n",
       "239        37882  294903.000000  1783.0000  -7.80      6               4     5\n",
       "\n",
       "[240 rows x 7 columns]"
      ]
     },
     "execution_count": 10,
     "metadata": {},
     "output_type": "execute_result"
    }
   ],
   "source": [
    "for i in range(len(temp.Color)):\n",
    "    temp.Color.iloc[i] = int(color_dic[temp.Color.iloc[i]])\n",
    "    temp.Spectral_Class.iloc[i] = int(class_dic[temp.Spectral_Class.iloc[i]])\n",
    "temp.Color = temp.Color.astype('int')\n",
    "temp.Spectral_Class = temp.Spectral_Class.astype('int')\n",
    "temp"
   ]
  },
  {
   "cell_type": "code",
   "execution_count": 11,
   "id": "systematic-alexandria",
   "metadata": {
    "execution": {
     "iopub.execute_input": "2021-04-23T04:30:40.928181Z",
     "iopub.status.busy": "2021-04-23T04:30:40.927019Z",
     "iopub.status.idle": "2021-04-23T04:30:40.931029Z",
     "shell.execute_reply": "2021-04-23T04:30:40.932012Z"
    },
    "papermill": {
     "duration": 0.042813,
     "end_time": "2021-04-23T04:30:40.932275",
     "exception": false,
     "start_time": "2021-04-23T04:30:40.889462",
     "status": "completed"
    },
    "tags": []
   },
   "outputs": [
    {
     "name": "stdout",
     "output_type": "stream",
     "text": [
      "<class 'pandas.core.frame.DataFrame'>\n",
      "RangeIndex: 240 entries, 0 to 239\n",
      "Data columns (total 7 columns):\n",
      " #   Column          Non-Null Count  Dtype  \n",
      "---  ------          --------------  -----  \n",
      " 0   Temperature     240 non-null    int64  \n",
      " 1   L               240 non-null    float64\n",
      " 2   R               240 non-null    float64\n",
      " 3   A_M             240 non-null    float64\n",
      " 4   Color           240 non-null    int64  \n",
      " 5   Spectral_Class  240 non-null    int64  \n",
      " 6   Type            240 non-null    int64  \n",
      "dtypes: float64(3), int64(4)\n",
      "memory usage: 13.2 KB\n"
     ]
    }
   ],
   "source": [
    "temp.info()"
   ]
  },
  {
   "cell_type": "code",
   "execution_count": 12,
   "id": "italian-import",
   "metadata": {
    "execution": {
     "iopub.execute_input": "2021-04-23T04:30:40.983403Z",
     "iopub.status.busy": "2021-04-23T04:30:40.982478Z",
     "iopub.status.idle": "2021-04-23T04:30:40.991451Z",
     "shell.execute_reply": "2021-04-23T04:30:40.992087Z"
    },
    "papermill": {
     "duration": 0.034763,
     "end_time": "2021-04-23T04:30:40.992280",
     "exception": false,
     "start_time": "2021-04-23T04:30:40.957517",
     "status": "completed"
    },
    "tags": []
   },
   "outputs": [
    {
     "data": {
      "text/plain": [
       "Index(['Temperature', 'L', 'R', 'A_M', 'Color', 'Spectral_Class'], dtype='object')"
      ]
     },
     "execution_count": 12,
     "metadata": {},
     "output_type": "execute_result"
    }
   ],
   "source": [
    "columns = temp.columns\n",
    "columns.drop('Type')"
   ]
  },
  {
   "cell_type": "code",
   "execution_count": 13,
   "id": "several-homeless",
   "metadata": {
    "execution": {
     "iopub.execute_input": "2021-04-23T04:30:41.039550Z",
     "iopub.status.busy": "2021-04-23T04:30:41.038553Z",
     "iopub.status.idle": "2021-04-23T04:30:42.110813Z",
     "shell.execute_reply": "2021-04-23T04:30:42.110150Z"
    },
    "papermill": {
     "duration": 1.0964,
     "end_time": "2021-04-23T04:30:42.110971",
     "exception": false,
     "start_time": "2021-04-23T04:30:41.014571",
     "status": "completed"
    },
    "tags": []
   },
   "outputs": [],
   "source": [
    "from sklearn.model_selection import train_test_split\n",
    "\n",
    "X_train, X_test, y_train, y_test= train_test_split(temp[columns], temp['Type'], test_size=0.3, random_state=726)"
   ]
  },
  {
   "cell_type": "code",
   "execution_count": 14,
   "id": "accessory-promotion",
   "metadata": {
    "execution": {
     "iopub.execute_input": "2021-04-23T04:30:42.150827Z",
     "iopub.status.busy": "2021-04-23T04:30:42.149872Z",
     "iopub.status.idle": "2021-04-23T04:30:42.241301Z",
     "shell.execute_reply": "2021-04-23T04:30:42.240510Z"
    },
    "papermill": {
     "duration": 0.112409,
     "end_time": "2021-04-23T04:30:42.241497",
     "exception": false,
     "start_time": "2021-04-23T04:30:42.129088",
     "status": "completed"
    },
    "tags": []
   },
   "outputs": [
    {
     "name": "stdout",
     "output_type": "stream",
     "text": [
      "XGBClassifier(base_score=None, booster=None, colsample_bylevel=None,\n",
      "              colsample_bynode=None, colsample_bytree=None, gamma=None,\n",
      "              gpu_id=None, importance_type='gain', interaction_constraints=None,\n",
      "              learning_rate=None, max_delta_step=None, max_depth=None,\n",
      "              min_child_weight=None, missing=nan, monotone_constraints=None,\n",
      "              n_estimators=100, n_jobs=None, num_parallel_tree=None,\n",
      "              random_state=None, reg_alpha=None, reg_lambda=None,\n",
      "              scale_pos_weight=None, subsample=None, tree_method=None,\n",
      "              validate_parameters=None, verbosity=None)\n"
     ]
    }
   ],
   "source": [
    "import xgboost as xgb\n",
    "from sklearn.metrics import classification_report, accuracy_score\n",
    "\n",
    "xgb_clf = xgb.XGBClassifier()\n",
    "print(xgb_clf)"
   ]
  },
  {
   "cell_type": "code",
   "execution_count": 15,
   "id": "optimum-marks",
   "metadata": {
    "execution": {
     "iopub.execute_input": "2021-04-23T04:30:42.288444Z",
     "iopub.status.busy": "2021-04-23T04:30:42.287528Z",
     "iopub.status.idle": "2021-04-23T04:30:42.455178Z",
     "shell.execute_reply": "2021-04-23T04:30:42.455904Z"
    },
    "papermill": {
     "duration": 0.195078,
     "end_time": "2021-04-23T04:30:42.456110",
     "exception": false,
     "start_time": "2021-04-23T04:30:42.261032",
     "status": "completed"
    },
    "tags": []
   },
   "outputs": [
    {
     "name": "stdout",
     "output_type": "stream",
     "text": [
      "[04:30:42] WARNING: ../src/learner.cc:573: \n",
      "Parameters: { \"scale_pos_weight\", \"silent\" } might not be used.\n",
      "\n",
      "  This may not be accurate due to some parameters are only used in language bindings but\n",
      "  passed down to XGBoost core.  Or some parameters are not used but slip through this\n",
      "  verification. Please open an issue if you find above cases.\n",
      "\n",
      "\n",
      "[04:30:42] WARNING: ../src/learner.cc:1095: Starting in XGBoost 1.3.0, the default evaluation metric used with the objective 'multi:softprob' was changed from 'merror' to 'mlogloss'. Explicitly set eval_metric if you'd like to restore the old behavior.\n",
      "              precision    recall  f1-score   support\n",
      "\n",
      "           0       1.00      1.00      1.00        10\n",
      "           1       1.00      1.00      1.00        10\n",
      "           2       1.00      1.00      1.00        16\n",
      "           3       1.00      0.83      0.91        12\n",
      "           4       0.85      1.00      0.92        11\n",
      "           5       1.00      1.00      1.00        13\n",
      "\n",
      "    accuracy                           0.97        72\n",
      "   macro avg       0.97      0.97      0.97        72\n",
      "weighted avg       0.98      0.97      0.97        72\n",
      "\n"
     ]
    },
    {
     "name": "stderr",
     "output_type": "stream",
     "text": [
      "/opt/conda/lib/python3.7/site-packages/xgboost/sklearn.py:1146: UserWarning: The use of label encoder in XGBClassifier is deprecated and will be removed in a future release. To remove this warning, do the following: 1) Pass option use_label_encoder=False when constructing XGBClassifier object; and 2) Encode your labels (y) as integers starting with 0, i.e. 0, 1, 2, ..., [num_class - 1].\n",
      "  warnings.warn(label_encoder_deprecation_msg, UserWarning)\n",
      "/opt/conda/lib/python3.7/site-packages/xgboost/data.py:114: UserWarning: Use subset (sliced data) of np.ndarray is not recommended because it will generate extra copies and increase memory consumption\n",
      "  \"because it will generate extra copies and increase \" +\n"
     ]
    }
   ],
   "source": [
    "# XGBoost 예측모형\n",
    "xgb_model = xgb.XGBClassifier(silent=False, \n",
    "                              booster='gbtree',\n",
    "                              scale_pos_weight=1,\n",
    "                              learning_rate=0.01,  \n",
    "                              colsample_bytree = 0.4,\n",
    "                              subsample = 0.8,\n",
    "                              objective='binary:logistic', \n",
    "                              n_estimators=100, \n",
    "                              max_depth=4, \n",
    "                              gamma=10, \n",
    "                              seed=777)\n",
    "\n",
    "hr_pred = xgb_model.fit(X_train, y_train).predict(X_test)\n",
    "print(classification_report(y_test, hr_pred))"
   ]
  },
  {
   "cell_type": "code",
   "execution_count": null,
   "id": "lonely-leader",
   "metadata": {
    "papermill": {
     "duration": 0.019226,
     "end_time": "2021-04-23T04:30:42.495686",
     "exception": false,
     "start_time": "2021-04-23T04:30:42.476460",
     "status": "completed"
    },
    "tags": []
   },
   "outputs": [],
   "source": []
  }
 ],
 "metadata": {
  "kernelspec": {
   "display_name": "Python 3",
   "language": "python",
   "name": "python3"
  },
  "language_info": {
   "codemirror_mode": {
    "name": "ipython",
    "version": 3
   },
   "file_extension": ".py",
   "mimetype": "text/x-python",
   "name": "python",
   "nbconvert_exporter": "python",
   "pygments_lexer": "ipython3",
   "version": "3.7.10"
  },
  "papermill": {
   "default_parameters": {},
   "duration": 11.847805,
   "end_time": "2021-04-23T04:30:43.326998",
   "environment_variables": {},
   "exception": null,
   "input_path": "__notebook__.ipynb",
   "output_path": "__notebook__.ipynb",
   "parameters": {},
   "start_time": "2021-04-23T04:30:31.479193",
   "version": "2.3.3"
  }
 },
 "nbformat": 4,
 "nbformat_minor": 5
}
